{
  "nbformat": 4,
  "nbformat_minor": 0,
  "metadata": {
    "colab": {
      "name": "gradientdescents.ipynb",
      "provenance": [],
      "authorship_tag": "ABX9TyO3C3fgUBEGQV0SEGwQjT7c",
      "include_colab_link": true
    },
    "kernelspec": {
      "name": "python3",
      "display_name": "Python 3"
    },
    "language_info": {
      "name": "python"
    }
  },
  "cells": [
    {
      "cell_type": "markdown",
      "metadata": {
        "id": "view-in-github",
        "colab_type": "text"
      },
      "source": [
        "<a href=\"https://colab.research.google.com/github/Airinelizabath/PROGRAMREPO/blob/main/gradientdescents.ipynb\" target=\"_parent\"><img src=\"https://colab.research.google.com/assets/colab-badge.svg\" alt=\"Open In Colab\"/></a>"
      ]
    },
    {
      "cell_type": "markdown",
      "metadata": {
        "id": "4bCRamdpjJQi"
      },
      "source": [
        "**Stochastic Gradient Descent (LINEAR REGRESSION)**\n",
        "(tensorflow)"
      ]
    },
    {
      "cell_type": "code",
      "metadata": {
        "colab": {
          "base_uri": "https://localhost:8080/"
        },
        "id": "Mmz5lm4sqKTn",
        "outputId": "06106fe5-6ea5-48ad-9d92-83895bcefd9b"
      },
      "source": [
        "pip install tflearn"
      ],
      "execution_count": null,
      "outputs": [
        {
          "output_type": "stream",
          "text": [
            "Collecting tflearn\n",
            "\u001b[?25l  Downloading https://files.pythonhosted.org/packages/e7/3c/0b156d08ef3d4e2a8009ecab2af1ad2e304f6fb99562b6271c68a74a4397/tflearn-0.5.0.tar.gz (107kB)\n",
            "\u001b[K     |████████████████████████████████| 112kB 5.4MB/s \n",
            "\u001b[?25hRequirement already satisfied: numpy in /usr/local/lib/python3.7/dist-packages (from tflearn) (1.19.5)\n",
            "Requirement already satisfied: six in /usr/local/lib/python3.7/dist-packages (from tflearn) (1.15.0)\n",
            "Requirement already satisfied: Pillow in /usr/local/lib/python3.7/dist-packages (from tflearn) (7.0.0)\n",
            "Building wheels for collected packages: tflearn\n",
            "  Building wheel for tflearn (setup.py) ... \u001b[?25l\u001b[?25hdone\n",
            "  Created wheel for tflearn: filename=tflearn-0.5.0-cp37-none-any.whl size=127301 sha256=0ba99515c2917b5d0f8701bbe32ec5abef36dde7c3e69e2b63c0a8a626ef9560\n",
            "  Stored in directory: /root/.cache/pip/wheels/31/d2/ed/fb9a0d301dd9586c11e9547120278e624227f22fd5f4baf744\n",
            "Successfully built tflearn\n",
            "Installing collected packages: tflearn\n",
            "Successfully installed tflearn-0.5.0\n"
          ],
          "name": "stdout"
        }
      ]
    },
    {
      "cell_type": "code",
      "metadata": {
        "colab": {
          "base_uri": "https://localhost:8080/"
        },
        "id": "q9Z5I7_GqRQD",
        "outputId": "c7a9759e-45ef-4956-9372-53dd90654d83"
      },
      "source": [
        "  \n",
        "\"\"\" Linear Regression Example \"\"\"\n",
        "\n",
        "from __future__ import absolute_import, division, print_function\n",
        "\n",
        "import tflearn\n",
        "\n",
        "# Regression data\n",
        "X = [3.3,4.4,5.5,6.71,6.93,4.168,9.779,6.182,7.59,2.167,7.042,10.791,5.313,7.997,5.654,9.27,3.1]\n",
        "Y = [1.7,2.76,2.09,3.19,1.694,1.573,3.366,2.596,2.53,1.221,2.827,3.465,1.65,2.904,2.42,2.94,1.3]\n",
        "\n",
        "# Linear Regression graph\n",
        "input_ = tflearn.input_data(shape=[None])\n",
        "linear = tflearn.single_unit(input_)\n",
        "regression = tflearn.regression(linear, optimizer='sgd', loss='mean_square',\n",
        "                                metric='R2', learning_rate=0.01)\n",
        "m = tflearn.DNN(regression)\n",
        "m.fit(X, Y, n_epoch=1000, show_metric=True, snapshot_epoch=False)\n",
        "\n",
        "print(\"\\nRegression result:\")\n",
        "print(\"Y = \" + str(m.get_weights(linear.W)) +\n",
        "      \"*X + \" + str(m.get_weights(linear.b)))\n",
        "\n",
        "print(\"\\nTest prediction for x = 3.2, 3.3, 3.4:\")\n",
        "print(m.predict([3.2, 3.3, 3.4]))\n",
        "# should output (close, not exact) y = [1.5315033197402954, 1.5585315227508545, 1.5855598449707031]"
      ],
      "execution_count": null,
      "outputs": [
        {
          "output_type": "stream",
          "text": [
            "Training Step: 1000  | total loss: \u001b[1m\u001b[32m0.16112\u001b[0m\u001b[0m | time: 0.006s\n",
            "\u001b[2K\r| SGD | epoch: 1000 | loss: 0.16112 - R2: 0.6783 -- iter: 17/17\n",
            "\n",
            "Regression result:\n",
            "Y = [0.284949]*X + [0.56261945]\n",
            "\n",
            "Test prediction for x = 3.2, 3.3, 3.4:\n",
            "[1.4744563 1.5029511 1.5314461]\n"
          ],
          "name": "stdout"
        }
      ]
    },
    {
      "cell_type": "code",
      "metadata": {
        "id": "Zw8kWUTnqWr5"
      },
      "source": [
        ""
      ],
      "execution_count": null,
      "outputs": []
    },
    {
      "cell_type": "markdown",
      "metadata": {
        "id": "GSNmIRKsnEWy"
      },
      "source": [
        "**GRADIENT DESCENT (LINEAR REGRESSION)**"
      ]
    },
    {
      "cell_type": "code",
      "metadata": {
        "colab": {
          "base_uri": "https://localhost:8080/",
          "height": 279
        },
        "id": "aCEX6QW3kMfK",
        "outputId": "5a8a6486-7fd7-47aa-b11e-92eec8e863b4"
      },
      "source": [
        "import pandas as pd  \n",
        "import numpy as np\n",
        "X = [3.3,4.4,5.5,6.71,6.93,4.168,9.779,6.182,7.59,2.167,7.042,10.791,5.313,7.997,5.654,9.27,3.1]\n",
        "Y = [1.7,2.76,2.09,3.19,1.694,1.573,3.366,2.596,2.53,1.221,2.827,3.465,1.65,2.904,2.42,2.94,1.3]\n",
        "\n",
        "from sklearn.model_selection import train_test_split\n",
        "X_train, X_test, Y_train, Y_test = train_test_split(X,Y,test_size=0.30,random_state=0)\n",
        "import matplotlib.pyplot as plt\n",
        "plt.scatter(X, Y, s = 5)\n",
        "plt.xlabel(\"X\")\n",
        "plt.ylabel(\"Y\")\n",
        "plt.show()"
      ],
      "execution_count": null,
      "outputs": [
        {
          "output_type": "display_data",
          "data": {
            "image/png": "[encoded data removed]",
            "text/plain": [
              "<Figure size 432x288 with 1 Axes>"
            ]
          },
          "metadata": {
            "tags": [],
            "needs_background": "light"
          }
        }
      ]
    },
    {
      "cell_type": "code",
      "metadata": {
        "id": "EzOfrobbkpa4"
      },
      "source": [
        "def fit(X, Y, w, b, alpha):\n",
        "  dl_dw = 0.0\n",
        "  dl_db = 0.0\n",
        "  N = len(X)\n",
        "  for i in range(N):\n",
        "    dl_dw += X[i] * ((w*X[i] + b)-Y[i])\n",
        "    dl_db += ((w*X[i] + b)-Y[i])\n",
        "    w = w - (1/float(N)) * dl_dw * alpha\n",
        "    b = b - (1/float(N)) * dl_db * alpha\n",
        "    return w, b\n",
        "def cost_function (X, Y, w, b):\n",
        "    N = len(X)\n",
        "    total_error = 0.0\n",
        "    for i in range(N):\n",
        "        total_error += ((w*X[i] + b)-Y[i])**2\n",
        "    return total_error / (2*float(N))\n",
        "#cost_function(X_train,Y_train,0.0,0.0)\n",
        "def train(X, Y, w, b, alpha, n_iter):\n",
        "    for i in range(n_iter):\n",
        "        w, b = fit(X, Y, w, b, alpha)\n",
        "        if i % 10 == 0:\n",
        "            print (\"iteration:\", i, \"cost: \", cost_function(X, Y, w, b))\n",
        "    return w, b\n",
        "def predict(x, w, b):\n",
        "\treturn x*w + b\n",
        "def mse(y_true,y_pred):\n",
        "  return np.mean((y_true-y_pred)**2)\n",
        "def plot_regression_line(x, tx,ty, w,b):\n",
        "\tplt.scatter(tx, ty, color = \"r\", s = 30)\n",
        "\ty_pred = w + b*x\n",
        "\tplt.plot(x, y_pred, color = \"g\")\n",
        "plt.show()\n"
      ],
      "execution_count": null,
      "outputs": []
    },
    {
      "cell_type": "code",
      "metadata": {
        "colab": {
          "base_uri": "https://localhost:8080/"
        },
        "id": "M4K6FALFk61O",
        "outputId": "d4262b53-60d3-4188-9e9e-ae4ffdb697de"
      },
      "source": [
        "w,b=train(X_train,Y_train, 0.0, 0.0, 0.00001, 50)"
      ],
      "execution_count": null,
      "outputs": [
        {
          "output_type": "stream",
          "text": [
            "iteration: 0 cost:  2.9797592429871056\n",
            "iteration: 10 cost:  2.9780799291036106\n",
            "iteration: 20 cost:  2.976401576604772\n",
            "iteration: 30 cost:  2.974724184942367\n",
            "iteration: 40 cost:  2.9730477535684883\n"
          ],
          "name": "stdout"
        }
      ]
    },
    {
      "cell_type": "markdown",
      "metadata": {
        "id": "Y4JVOHRii6zJ"
      },
      "source": [
        "**Mini-Batch Gradient Descent**"
      ]
    },
    {
      "cell_type": "code",
      "metadata": {
        "colab": {
          "base_uri": "https://localhost:8080/",
          "height": 298
        },
        "id": "rs7liHhBYDYx",
        "outputId": "ccad4ab9-e8d5-480d-e778-0915bb4ea37a"
      },
      "source": [
        "import numpy as np \n",
        "import matplotlib.pyplot as plt \n",
        "\n",
        "\n",
        "mean = np.array([5.0, 6.0]) \n",
        "cov = np.array([[1.0, 0.95], [0.95, 1.2]]) \n",
        "data = np.random.multivariate_normal(mean, cov, 8000) \n",
        "\n",
        "\n",
        "plt.scatter(data[:500, 0], data[:500, 1], marker = '.') \n",
        "plt.show() \n",
        "\n",
        "\n",
        "data = np.hstack((np.ones((data.shape[0], 1)), data)) \n",
        "\n",
        "split_factor = 0.90\n",
        "split = int(split_factor * data.shape[0]) \n",
        "\n",
        "X_train = data[:split, :-1] \n",
        "y_train = data[:split, -1].reshape((-1, 1)) \n",
        "X_test = data[split:, :-1] \n",
        "y_test = data[split:, -1].reshape((-1, 1)) \n",
        "\n",
        "print(\"Number of examples in training set = % d\"%(X_train.shape[0])) \n",
        "print(\"Number of examples in testing set = % d\"%(X_test.shape[0])) \n",
        "\n"
      ],
      "execution_count": null,
      "outputs": [
        {
          "output_type": "display_data",
          "data": {
            "image/png": "[encoded data removed]",
            "text/plain": [
              "<Figure size 432x288 with 1 Axes>"
            ]
          },
          "metadata": {
            "tags": [],
            "needs_background": "light"
          }
        },
        {
          "output_type": "stream",
          "text": [
            "Number of examples in training set =  7200\n",
            "Number of examples in testing set =  800\n"
          ],
          "name": "stdout"
        }
      ]
    },
    {
      "cell_type": "code",
      "metadata": {
        "id": "lyj2SqRZYQjb"
      },
      "source": [
        "# linear regression using \"mini-batch\" gradient descent \n",
        "\n",
        "def hypothesis(X, theta): \n",
        "\treturn np.dot(X, theta) \n",
        "\n",
        "def gradient(X, y, theta): \n",
        "\th = hypothesis(X, theta) \n",
        "\tgrad = np.dot(X.transpose(), (h - y)) \n",
        "\treturn grad \n",
        "\n",
        "\n",
        "def cost(X, y, theta): \n",
        "\th = hypothesis(X, theta) \n",
        "\tJ = np.dot((h - y).transpose(), (h - y)) \n",
        "\tJ /= 2\n",
        "\treturn J[0] \n",
        "\n",
        "# function to create a list containing mini-batches \n",
        "def create_mini_batches(X, y, batch_size): \n",
        "\tmini_batches = [] \n",
        "\tdata = np.hstack((X, y)) \n",
        "\tnp.random.shuffle(data) \n",
        "\tn_minibatches = data.shape[0] // batch_size \n",
        "\ti = 0\n",
        "\n",
        "\tfor i in range(n_minibatches + 1): \n",
        "\t\tmini_batch = data[i * batch_size:(i + 1)*batch_size, :] \n",
        "\t\tX_mini = mini_batch[:, :-1] \n",
        "\t\tY_mini = mini_batch[:, -1].reshape((-1, 1)) \n",
        "\t\tmini_batches.append((X_mini, Y_mini)) \n",
        "\tif data.shape[0] % batch_size != 0: \n",
        "\t\tmini_batch = data[i * batch_size:data.shape[0]] \n",
        "\t\tX_mini = mini_batch[:, :-1] \n",
        "\t\tY_mini = mini_batch[:, -1].reshape((-1, 1)) \n",
        "\t\tmini_batches.append((X_mini, Y_mini)) \n",
        "\treturn mini_batches \n",
        "\n",
        "# function to perform mini-batch gradient descent \n",
        "def gradientDescent(X, y, learning_rate = 0.001, batch_size = 32): \n",
        "\ttheta = np.zeros((X.shape[1], 1)) \n",
        "\terror_list = [] \n",
        "\tmax_iters = 3\n",
        "\tfor itr in range(max_iters): \n",
        "\t\tmini_batches = create_mini_batches(X, y, batch_size) \n",
        "\t\tfor mini_batch in mini_batches: \n",
        "\t\t\tX_mini, y_mini = mini_batch \n",
        "\t\t\ttheta = theta - learning_rate * gradient(X_mini, y_mini, theta) \n",
        "\t\t\terror_list.append(cost(X_mini, y_mini, theta)) \n",
        "\n",
        "\treturn theta, error_list \n"
      ],
      "execution_count": null,
      "outputs": []
    },
    {
      "cell_type": "code",
      "metadata": {
        "colab": {
          "base_uri": "https://localhost:8080/",
          "height": 313
        },
        "id": "kQQOAVJxYUhk",
        "outputId": "695d3ec2-e8cc-4477-f7b8-bfca6bcce053"
      },
      "source": [
        "theta, error_list = gradientDescent(X_train, y_train) \n",
        "print(\"Bias = \", theta[0]) \n",
        "print(\"Coefficients = \", theta[1:]) \n",
        "\n",
        "# visualising gradient descent \n",
        "plt.plot(error_list) \n",
        "plt.xlabel(\"Number of iterations\") \n",
        "plt.ylabel(\"Cost\") \n",
        "plt.show() \n"
      ],
      "execution_count": null,
      "outputs": [
        {
          "output_type": "stream",
          "text": [
            "Bias =  [0.79944613]\n",
            "Coefficients =  [[1.06241492]]\n"
          ],
          "name": "stdout"
        },
        {
          "output_type": "display_data",
          "data": {
            "image/png": "[encoded data removed]",
            "text/plain": [
              "<Figure size 432x288 with 1 Axes>"
            ]
          },
          "metadata": {
            "tags": [],
            "needs_background": "light"
          }
        }
      ]
    },
    {
      "cell_type": "code",
      "metadata": {
        "colab": {
          "base_uri": "https://localhost:8080/",
          "height": 282
        },
        "id": "tAratoXTYW9R",
        "outputId": "7f61cfe2-afa5-4f8e-c367-fac33bf5f92f"
      },
      "source": [
        "# predicting output for X_test \n",
        "y_pred = hypothesis(X_test, theta) \n",
        "plt.scatter(X_test[:, 1], y_test[:, ], marker = '.') \n",
        "plt.plot(X_test[:, 1], y_pred, color = 'orange') \n",
        "plt.show() \n",
        "\n",
        "# calculating error in predictions \n",
        "error = np.sum(np.abs(y_test - y_pred) / y_test.shape[0]) \n",
        "print(\"Mean absolute error = \", error) \n"
      ],
      "execution_count": null,
      "outputs": [
        {
          "output_type": "display_data",
          "data": {
            "image/png": "[encoded data removed]",
            "text/plain": [
              "<Figure size 432x288 with 1 Axes>"
            ]
          },
          "metadata": {
            "tags": [],
            "needs_background": "light"
          }
        },
        {
          "output_type": "stream",
          "text": [
            "Mean absolute error =  0.4583933400647653\n"
          ],
          "name": "stdout"
        }
      ]
    }
  ]
}