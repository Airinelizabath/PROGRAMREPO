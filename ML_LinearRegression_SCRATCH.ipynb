{
  "nbformat": 4,
  "nbformat_minor": 0,
  "metadata": {
    "colab": {
      "name": "ML_LinearRegression.ipynb",
      "provenance": [],
      "collapsed_sections": [],
      "authorship_tag": "ABX9TyN8b+P1dmytZKO4mcYsNFHI",
      "include_colab_link": true
    },
    "kernelspec": {
      "display_name": "Python 3",
      "name": "python3"
    }
  },
  "cells": [
    {
      "cell_type": "markdown",
      "metadata": {
        "id": "view-in-github",
        "colab_type": "text"
      },
      "source": [
        "<a href=\"https://colab.research.google.com/github/Airinelizabath/PROGRAMREPO/blob/main/ML_LinearRegression.ipynb\" target=\"_parent\"><img src=\"https://colab.research.google.com/assets/colab-badge.svg\" alt=\"Open In Colab\"/></a>"
      ]
    },
    {
      "cell_type": "markdown",
      "metadata": {
        "id": "vhZ3Wdsg98wK"
      },
      "source": [
        "**Simple Linear Regression**"
      ]
    },
    {
      "cell_type": "code",
      "metadata": {
        "id": "yOTrSete75oR"
      },
      "source": [
        "import pandas as pd  \n",
        "import numpy as np"
      ],
      "execution_count": null,
      "outputs": []
    },
    {
      "cell_type": "code",
      "metadata": {
        "colab": {
          "base_uri": "https://localhost:8080/"
        },
        "id": "odLIR2ZmJNq3",
        "outputId": "b25409df-1666-4aa9-96f1-1ae6e6c9a10c"
      },
      "source": [
        "data = pd.read_csv('/content/ex1data2.txt', delimiter=',')              \n",
        "print(data.head())"
      ],
      "execution_count": null,
      "outputs": [
        {
          "output_type": "stream",
          "text": [
            "   size  bedrooms   price\n",
            "0  2104         3  399900\n",
            "1  1600         3  329900\n",
            "2  2400         3  369000\n",
            "3  1416         2  232000\n",
            "4  3000         4  539900\n"
          ],
          "name": "stdout"
        }
      ]
    },
    {
      "cell_type": "code",
      "metadata": {
        "id": "i48PZbaVAIn2"
      },
      "source": [
        "X = data.iloc[:,:2] # 2 features #1st feature\n",
        "Y = data.iloc[:,2] # labels\n",
        "X = np.array(X)\n",
        "Y = np.array(Y)\n",
        "from sklearn.model_selection import train_test_split\n",
        "X, x, Y, y = train_test_split(X,Y,test_size=0.30,random_state=0)\n",
        "m = len(Y)"
      ],
      "execution_count": null,
      "outputs": []
    },
    {
      "cell_type": "code",
      "metadata": {
        "id": "XvL4BKfomV45"
      },
      "source": [
        "P = data['size'].values; Q = data['price'].values\n",
        "S = data['bedrooms'].values; T = data['price'].values"
      ],
      "execution_count": null,
      "outputs": []
    },
    {
      "cell_type": "code",
      "metadata": {
        "colab": {
          "base_uri": "https://localhost:8080/",
          "height": 541
        },
        "id": "Z5IURH8gaY8Q",
        "outputId": "323fbead-2132-4019-ed3d-19412ad5fc58"
      },
      "source": [
        "# Split the data into training/testing sets\n",
        "from sklearn.model_selection import train_test_split\n",
        "X_train, X_test, Y_train, Y_test = train_test_split(P,Q,test_size=0.30,random_state=0)\n",
        "import matplotlib.pyplot as plt\n",
        "plt.scatter(P, Q, s = 5)\n",
        "plt.xlabel(\"size\")\n",
        "plt.ylabel(\"price\")\n",
        "plt.show()\n",
        "\n",
        "from sklearn.model_selection import train_test_split\n",
        "S_train, S_test, T_train, T_test = train_test_split(S,T,test_size=0.30,random_state=0)\n",
        "import matplotlib.pyplot as plt\n",
        "plt.scatter(S, T, s = 5)\n",
        "plt.xlabel(\"bedrooms\")\n",
        "plt.ylabel(\"price\")\n",
        "plt.show()"
      ],
      "execution_count": null,
      "outputs": [
        {
          "output_type": "display_data",
          "data": {
            "image/png": "[encoded data removed]",
            "text/plain": [
              "<Figure size 432x288 with 1 Axes>"
            ]
          },
          "metadata": {
            "tags": []
          }
        },
        {
          "output_type": "display_data",
          "data": {
            "image/png": "[encoded data removed]",
            "text/plain": [
              "<Figure size 432x288 with 1 Axes>"
            ]
          },
          "metadata": {
            "tags": []
          }
        }
      ]
    },
    {
      "cell_type": "code",
      "metadata": {
        "id": "oYUtazE6FUrm"
      },
      "source": [
        ""
      ],
      "execution_count": null,
      "outputs": []
    },
    {
      "cell_type": "code",
      "metadata": {
        "id": "XulkUZf9NcSn"
      },
      "source": [
        "def fit(X, Y, w, b, alpha):\n",
        "  dl_dw = 0.0\n",
        "  dl_db = 0.0\n",
        "  N = len(X)\n",
        "  for i in range(N):\n",
        "    dl_dw += X[i] * ((w*X[i] + b)-Y[i])\n",
        "    dl_db += ((w*X[i] + b)-Y[i])\n",
        "    w = w - (1/float(N)) * dl_dw * alpha\n",
        "    b = b - (1/float(N)) * dl_db * alpha\n",
        "    return w, b\n",
        "\n",
        "#fit(X_train,Y_train,0.0,0.0,0.01)"
      ],
      "execution_count": null,
      "outputs": []
    },
    {
      "cell_type": "code",
      "metadata": {
        "id": "Hp652HIxDm0E"
      },
      "source": [
        "def cost_function (X, Y, w, b):\n",
        "    N = len(X)\n",
        "    total_error = 0.0\n",
        "    for i in range(N):\n",
        "        total_error += ((w*X[i] + b)-Y[i])**2\n",
        "    return total_error / (2*float(N))\n",
        "#cost_function(X_train,Y_train,0.0,0.0)"
      ],
      "execution_count": null,
      "outputs": []
    },
    {
      "cell_type": "code",
      "metadata": {
        "id": "frjzNiO4ZL9K"
      },
      "source": [
        "def train(X, Y, w, b, alpha, n_iter):\n",
        "    for i in range(n_iter):\n",
        "        w, b = fit(X, Y, w, b, alpha)\n",
        "        if i % 10 == 0:\n",
        "            print (\"iteration:\", i, \"cost: \", cost_function(X, Y, w, b))\n",
        "    return w, b"
      ],
      "execution_count": null,
      "outputs": []
    },
    {
      "cell_type": "code",
      "metadata": {
        "id": "vOovSmMVbDIP"
      },
      "source": [
        "def predict(x, w, b):\n",
        "\treturn x*w + b\n",
        "def mse(y_true,y_pred):\n",
        "  return np.mean((y_true-y_pred)**2)\n",
        "def r2(y_true,y_pred):\n",
        "  sse=np.sum((y_true-y_pred)**2)\n",
        "  sst=np.sum((y_true-np.mean(y_true))**2)\n",
        "  return 1-(sse/sst)"
      ],
      "execution_count": null,
      "outputs": []
    },
    {
      "cell_type": "code",
      "metadata": {
        "id": "pmJ3MBFlb_q0"
      },
      "source": [
        "def plot_regression_line(x, tx,ty, w,b):\n",
        "\tplt.scatter(tx, ty, color = \"r\", s = 30)\n",
        "\ty_pred = w + b*x\n",
        "\tplt.plot(x, y_pred, color = \"g\")\n",
        "plt.show()\n"
      ],
      "execution_count": null,
      "outputs": []
    },
    {
      "cell_type": "markdown",
      "metadata": {
        "id": "S-6-7ucb-p6E"
      },
      "source": [
        "SIZE VS PRICE"
      ]
    },
    {
      "cell_type": "code",
      "metadata": {
        "colab": {
          "base_uri": "https://localhost:8080/"
        },
        "id": "FQCbXOWaZRgS",
        "outputId": "f1030b22-586c-43d4-e958-64bd7c79658b"
      },
      "source": [
        "w,b=train(X_train,Y_train, 0.0, 0.0, 0.00001, 50)"
      ],
      "execution_count": null,
      "outputs": [
        {
          "output_type": "stream",
          "text": [
            "iteration: 0 cost:  2510670952.6046476\n",
            "iteration: 10 cost:  2328211873.9274178\n",
            "iteration: 20 cost:  2328211873.9278383\n",
            "iteration: 30 cost:  2328211873.9278383\n",
            "iteration: 40 cost:  2328211873.9278383\n"
          ],
          "name": "stdout"
        }
      ]
    },
    {
      "cell_type": "code",
      "metadata": {
        "colab": {
          "base_uri": "https://localhost:8080/"
        },
        "id": "3KQ8pd28PmBr",
        "outputId": "9f505e70-84fe-491e-870d-59d4f4615512"
      },
      "source": [
        "y_new = predict(X_test, w, b)\n",
        "print(y_new)"
      ],
      "execution_count": null,
      "outputs": [
        {
          "output_type": "stream",
          "text": [
            "[356252.6833542  507983.90261538 297794.87102412 485799.08186961\n",
            " 422483.27959521 323866.08372535 415682.09367315 161933.08558109\n",
            " 259740.61646022 314150.1038367  409042.84074923 330343.40365112\n",
            " 427017.40354325 194319.68520994 388639.28298306]\n"
          ],
          "name": "stdout"
        }
      ]
    },
    {
      "cell_type": "code",
      "metadata": {
        "colab": {
          "base_uri": "https://localhost:8080/"
        },
        "id": "m20Ln7_gb4B_",
        "outputId": "7992e873-5a46-4be7-e70b-c92205d61433"
      },
      "source": [
        "mse_v=mse(Y_test,y_new)\n",
        "print(\"Mean Squared error is {} \" .format(mse_v))\n",
        "print(\"r^2 error is : {}\".format(r2(Y_test,y_new)))"
      ],
      "execution_count": null,
      "outputs": [
        {
          "output_type": "stream",
          "text": [
            "Mean Squared error is 5265266012.76191 \n",
            "r^2 error is : 0.6064825989252759\n"
          ],
          "name": "stdout"
        }
      ]
    },
    {
      "cell_type": "code",
      "metadata": {
        "id": "4TChmjAWuKnC"
      },
      "source": [
        "from sklearn.metrics import r2_score\n",
        "print(\"r2 error using library is {}\".format(r2_score(Y_test, y_new)))"
      ],
      "execution_count": null,
      "outputs": []
    },
    {
      "cell_type": "code",
      "metadata": {
        "colab": {
          "base_uri": "https://localhost:8080/",
          "height": 280
        },
        "id": "hdVhj_ls5r4f",
        "outputId": "0afb2336-72c2-4b70-cab5-be723c369e52"
      },
      "source": [
        "plot_regression_line(X_train,X_test,Y_test,w,b)"
      ],
      "execution_count": null,
      "outputs": [
        {
          "output_type": "display_data",
          "data": {
            "image/png": "[encoded data removed]",
            "text/plain": [
              "<Figure size 432x288 with 1 Axes>"
            ]
          },
          "metadata": {
            "tags": []
          }
        }
      ]
    },
    {
      "cell_type": "markdown",
      "metadata": {
        "id": "yriC-RAh_uo4"
      },
      "source": [
        "NO. OF BEDROOMS VS PRICE"
      ]
    },
    {
      "cell_type": "code",
      "metadata": {
        "colab": {
          "background_save": true,
          "base_uri": "https://localhost:8080/"
        },
        "id": "4jhiDMlj7z5Q",
        "outputId": "d9a350fe-552c-4d1c-8e6c-b02c74c3492f"
      },
      "source": [
        "w,b=train(S_train,T_train, 0.0, 0.0, 0.00001, 50)"
      ],
      "execution_count": null,
      "outputs": [
        {
          "output_type": "stream",
          "text": [
            "iteration: 0 cost:  61572693660.36764\n",
            "iteration: 10 cost:  61568297362.592255\n",
            "iteration: 20 cost:  61563901471.808945\n",
            "iteration: 30 cost:  61559505987.97765\n",
            "iteration: 40 cost:  61555110911.05833\n"
          ],
          "name": "stdout"
        }
      ]
    },
    {
      "cell_type": "code",
      "metadata": {
        "colab": {
          "background_save": true,
          "base_uri": "https://localhost:8080/"
        },
        "id": "5ilyhUfz77Yq",
        "outputId": "69f7c38d-d749-49c5-fe72-b7c039f6fcda"
      },
      "source": [
        "t_new = predict(S_test, w, b)\n",
        "print(t_new)"
      ],
      "execution_count": null,
      "outputs": [
        {
          "output_type": "stream",
          "text": [
            "[60.90925942 60.90925942 42.16794883 79.65057001 79.65057001 60.90925942\n",
            " 79.65057001 23.42663824 60.90925942 79.65057001 60.90925942 79.65057001\n",
            " 60.90925942 60.90925942 60.90925942]\n"
          ],
          "name": "stdout"
        }
      ]
    },
    {
      "cell_type": "code",
      "metadata": {
        "colab": {
          "base_uri": "https://localhost:8080/"
        },
        "id": "7IgJGfuU8Es-",
        "outputId": "ace198d5-66c5-424d-db42-227269b40232"
      },
      "source": [
        "mse_v=mse(T_test,t_new)\n",
        "print(\"Mean Squared error is {} \" .format(mse_v))\n",
        "print(\"r^2 error is : {}\".format(r2(T_test,t_new)))"
      ],
      "execution_count": null,
      "outputs": [
        {
          "output_type": "stream",
          "text": [
            "Mean Squared error is 148280540170.837 \n",
            "r^2 error is : -10.082245921963558\n"
          ],
          "name": "stdout"
        }
      ]
    },
    {
      "cell_type": "code",
      "metadata": {
        "colab": {
          "base_uri": "https://localhost:8080/"
        },
        "id": "DHOvJSGH8POJ",
        "outputId": "fa93b09e-0df9-4533-8851-d954e00cbe3c"
      },
      "source": [
        "print(\"r2 error using library is {}\".format(r2_score(T_test, t_new)))"
      ],
      "execution_count": null,
      "outputs": [
        {
          "output_type": "stream",
          "text": [
            "r2 error using library is -10.082245921963558\n"
          ],
          "name": "stdout"
        }
      ]
    },
    {
      "cell_type": "code",
      "metadata": {
        "colab": {
          "base_uri": "https://localhost:8080/",
          "height": 266
        },
        "id": "ihhswNLL8onh",
        "outputId": "34cc1e68-6970-40bf-e9d7-9792e67cc7a4"
      },
      "source": [
        "plot_regression_line(X_train,X_test,Y_test,w,b)"
      ],
      "execution_count": null,
      "outputs": [
        {
          "output_type": "display_data",
          "data": {
            "image/png": "[encoded data removed]",
            "text/plain": [
              "<Figure size 432x288 with 1 Axes>"
            ]
          },
          "metadata": {
            "tags": []
          }
        }
      ]
    },
    {
      "cell_type": "markdown",
      "metadata": {
        "id": "36AQZqbFsC5J"
      },
      "source": [
        "<<<<<<<<<<<<<<<<<<<<<<<<<<<<<<<<<>>>>>>>>>>>>>>>>>>>>>>>>>>>>>>>>>>>>>>>>>>>>>"
      ]
    },
    {
      "cell_type": "markdown",
      "metadata": {
        "id": "7ugehbgIATYW"
      },
      "source": [
        "MULTIVARIABLE LINEAR REGRESSION"
      ]
    },
    {
      "cell_type": "code",
      "metadata": {
        "id": "lxH6sbhAjC_-"
      },
      "source": [
        "import pandas as pd  \n",
        "import numpy as np\n",
        "import matplotlib.pyplot as plt "
      ],
      "execution_count": null,
      "outputs": []
    },
    {
      "cell_type": "code",
      "metadata": {
        "id": "mYiD1ck6jFyC"
      },
      "source": [
        ""
      ],
      "execution_count": null,
      "outputs": []
    },
    {
      "cell_type": "code",
      "metadata": {
        "id": "U1kSSZah3V5Z"
      },
      "source": [
        "data = pd.read_csv('/content/ex1data2.txt', delimiter=',',header=None)              "
      ],
      "execution_count": null,
      "outputs": []
    },
    {
      "cell_type": "code",
      "metadata": {
        "colab": {
          "base_uri": "https://localhost:8080/",
          "height": 201
        },
        "id": "sCieasfLYJuw",
        "outputId": "449765f3-f950-4f8b-e73c-bcc3e1122657"
      },
      "source": [
        "data.head()"
      ],
      "execution_count": null,
      "outputs": [
        {
          "output_type": "execute_result",
          "data": {
            "text/html": [
              "<div>\n",
              "<style scoped>\n",
              "    .dataframe tbody tr th:only-of-type {\n",
              "        vertical-align: middle;\n",
              "    }\n",
              "\n",
              "    .dataframe tbody tr th {\n",
              "        vertical-align: top;\n",
              "    }\n",
              "\n",
              "    .dataframe thead th {\n",
              "        text-align: right;\n",
              "    }\n",
              "</style>\n",
              "<table border=\"1\" class=\"dataframe\">\n",
              "  <thead>\n",
              "    <tr style=\"text-align: right;\">\n",
              "      <th></th>\n",
              "      <th>0</th>\n",
              "      <th>1</th>\n",
              "      <th>2</th>\n",
              "    </tr>\n",
              "  </thead>\n",
              "  <tbody>\n",
              "    <tr>\n",
              "      <th>0</th>\n",
              "      <td>2104</td>\n",
              "      <td>3</td>\n",
              "      <td>399900</td>\n",
              "    </tr>\n",
              "    <tr>\n",
              "      <th>1</th>\n",
              "      <td>1600</td>\n",
              "      <td>3</td>\n",
              "      <td>329900</td>\n",
              "    </tr>\n",
              "    <tr>\n",
              "      <th>2</th>\n",
              "      <td>2400</td>\n",
              "      <td>3</td>\n",
              "      <td>369000</td>\n",
              "    </tr>\n",
              "    <tr>\n",
              "      <th>3</th>\n",
              "      <td>1416</td>\n",
              "      <td>2</td>\n",
              "      <td>232000</td>\n",
              "    </tr>\n",
              "    <tr>\n",
              "      <th>4</th>\n",
              "      <td>3000</td>\n",
              "      <td>4</td>\n",
              "      <td>539900</td>\n",
              "    </tr>\n",
              "  </tbody>\n",
              "</table>\n",
              "</div>"
            ],
            "text/plain": [
              "      0  1       2\n",
              "0  2104  3  399900\n",
              "1  1600  3  329900\n",
              "2  2400  3  369000\n",
              "3  1416  2  232000\n",
              "4  3000  4  539900"
            ]
          },
          "metadata": {
            "tags": []
          },
          "execution_count": 30
        }
      ]
    },
    {
      "cell_type": "code",
      "metadata": {
        "id": "hOBfBkTpQ1dh",
        "colab": {
          "base_uri": "https://localhost:8080/",
          "height": 264
        },
        "outputId": "3e448302-9ed9-475d-a74a-82918fc39460"
      },
      "source": [
        "fig,axes= plt.subplots(figsize=(12,4),nrows=1, ncols=2 )\n",
        "axes[0].scatter(data[0],data[2])\n",
        "axes[0].set_xlabel(\"Size\")\n",
        "axes[0].set_ylabel(\"Price\")\n",
        "axes[0].set_title(\"Size-Price Plot\")\n",
        "\n",
        "axes[1].scatter(data[1],data[2],color='b')\n",
        "axes[1].set_xlabel(\"No. of Rooms \")\n",
        "axes[1].set_ylabel(\"Price\")\n",
        "axes[1].set_title(\"No. of Rooms - Price Plot\")\n",
        "\n",
        "plt.tight_layout()"
      ],
      "execution_count": null,
      "outputs": [
        {
          "output_type": "display_data",
          "data": {
            "image/png": "[encoded data removed]",
            "text/plain": [
              "<Figure size 864x288 with 2 Axes>"
            ]
          },
          "metadata": {
            "tags": [],
            "needs_background": "light"
          }
        }
      ]
    },
    {
      "cell_type": "code",
      "metadata": {
        "id": "betyMd99Q4YF"
      },
      "source": [
        "def CostFunction(X,y,theta):\n",
        "    m= len(y)\n",
        "    J= 1/(2*m)*np.sum((X.dot(theta)-y)**2)        \n",
        "    return J"
      ],
      "execution_count": null,
      "outputs": []
    },
    {
      "cell_type": "code",
      "metadata": {
        "id": "k43rwLG-Q61Y"
      },
      "source": [
        "def GradientDescent(X, y, theta, learningRate , iterations):\n",
        "    m= len(y)\n",
        "    J_list =[]\n",
        "    for i in range(iterations):\n",
        "        theta = theta - (learningRate*(1/m)*(X.transpose().dot(X.dot(theta)-y)))\n",
        "        J_list.append(CostFunction(X,y,theta))\n",
        "    return theta,J_list    "
      ],
      "execution_count": null,
      "outputs": []
    },
    {
      "cell_type": "code",
      "metadata": {
        "id": "OvLzaw26Q9EE"
      },
      "source": [
        "def FeatureNormalization(X):\n",
        "    mean = np.mean(X,axis=0)\n",
        "    stdDev= np.std(X,axis=0)\n",
        "    X_Normalized= (X-mean)/stdDev\n",
        "    return X_Normalized"
      ],
      "execution_count": null,
      "outputs": []
    },
    {
      "cell_type": "code",
      "metadata": {
        "id": "1gtVd7sURCdx",
        "colab": {
          "base_uri": "https://localhost:8080/"
        },
        "outputId": "2af5a566-056b-40d7-a78a-da71f3c263b8"
      },
      "source": [
        "data_arr= data.values\n",
        "m=len(data_arr[:,-1])\n",
        "X = data_arr[:,0:2].reshape(m,2)\n",
        "y= data_arr[:,-1].reshape(m,1)\n",
        "Norm_X= FeatureNormalization(X)\n",
        "Norm_X= np.append(np.ones((m,1)),Norm_X,axis=1)\n",
        "theta= np.zeros((3,1))\n",
        "\n",
        "CostFunction(Norm_X,y, theta)"
      ],
      "execution_count": null,
      "outputs": [
        {
          "output_type": "execute_result",
          "data": {
            "text/plain": [
              "65591548106.45744"
            ]
          },
          "metadata": {
            "tags": []
          },
          "execution_count": 35
        }
      ]
    },
    {
      "cell_type": "code",
      "metadata": {
        "id": "agcNHdIQRFfn",
        "colab": {
          "base_uri": "https://localhost:8080/"
        },
        "outputId": "edd45a25-6f1a-4da7-f0be-b7e1b9b4fa25"
      },
      "source": [
        "opt_theta , J_List= GradientDescent(Norm_X,y,theta,0.1,400)\n",
        "print(\"h(x) = \"+str(round(opt_theta[0,0],2))+\" + \"+str(round(opt_theta[1,0],2))+\"x1 + \"+str(round(opt_theta[2,0],2))+\"x2 \" )"
      ],
      "execution_count": null,
      "outputs": [
        {
          "output_type": "stream",
          "text": [
            "h(x) = 340412.66 + 109447.8x1 + -6578.35x2 \n"
          ],
          "name": "stdout"
        }
      ]
    },
    {
      "cell_type": "code",
      "metadata": {
        "id": "4dx0DvLVRH5b",
        "colab": {
          "base_uri": "https://localhost:8080/",
          "height": 312
        },
        "outputId": "56cb60aa-a712-4902-a511-1e9b871c29f0"
      },
      "source": [
        "plt.plot(J_List)\n",
        "plt.xlabel(\"Iteration\")\n",
        "plt.ylabel(\"$J(\\Theta)$\")\n",
        "plt.title(\"Cost function using Gradient Descent\")"
      ],
      "execution_count": null,
      "outputs": [
        {
          "output_type": "execute_result",
          "data": {
            "text/plain": [
              "Text(0.5, 1.0, 'Cost function using Gradient Descent')"
            ]
          },
          "metadata": {
            "tags": []
          },
          "execution_count": 37
        },
        {
          "output_type": "display_data",
          "data": {
            "image/png": "[encoded data removed]",
            "text/plain": [
              "<Figure size 432x288 with 1 Axes>"
            ]
          },
          "metadata": {
            "tags": [],
            "needs_background": "light"
          }
        }
      ]
    },
    {
      "cell_type": "code",
      "metadata": {
        "id": "Nap2MRo1RKmM"
      },
      "source": [
        "def Predict(x, theta ):\n",
        "    prediction = theta.transpose().dot(x)\n",
        "    return prediction[0]"
      ],
      "execution_count": null,
      "outputs": []
    },
    {
      "cell_type": "code",
      "metadata": {
        "id": "3RJriyefRNtX",
        "colab": {
          "base_uri": "https://localhost:8080/"
        },
        "outputId": "4b31c2d6-6ec3-4a47-b719-e361134bb5a6"
      },
      "source": [
        "x_sample = FeatureNormalization(np.array([1650,3])) \n",
        "x_sample=np.append(np.ones(1),x_sample)\n",
        "predict3=Predict(x_sample,opt_theta)\n",
        "print(\"We predict that for the size 1650 and the no. of rooms 3 there will be a profit of \"+\" $\"+str(round(predict3,0)))"
      ],
      "execution_count": null,
      "outputs": [
        {
          "output_type": "stream",
          "text": [
            "We predict that for the size 1650 and the no. of rooms 3 there will be a profit of  $456439.0\n"
          ],
          "name": "stdout"
        }
      ]
    },
    {
      "cell_type": "code",
      "metadata": {
        "colab": {
          "base_uri": "https://localhost:8080/"
        },
        "id": "uyEyuMtgTYhW",
        "outputId": "f45b05d6-823a-4c34-fdbb-a0a37ff4970c"
      },
      "source": [
        "m"
      ],
      "execution_count": null,
      "outputs": [
        {
          "output_type": "execute_result",
          "data": {
            "text/plain": [
              "32"
            ]
          },
          "metadata": {
            "tags": []
          },
          "execution_count": 154
        }
      ]
    }
  ]
}
