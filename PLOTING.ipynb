{
  "nbformat": 4,
  "nbformat_minor": 0,
  "metadata": {
    "colab": {
      "name": "PLOTING.ipynb",
      "provenance": [],
      "collapsed_sections": [],
      "authorship_tag": "ABX9TyOxr/3B4r7r/CppKCzb+XzY",
      "include_colab_link": true
    },
    "kernelspec": {
      "name": "python3",
      "display_name": "Python 3"
    },
    "language_info": {
      "name": "python"
    }
  },
  "cells": [
    {
      "cell_type": "markdown",
      "metadata": {
        "id": "view-in-github",
        "colab_type": "text"
      },
      "source": [
        "<a href=\"https://colab.research.google.com/github/Airinelizabath/PROGRAMREPO/blob/main/PLOTING.ipynb\" target=\"_parent\"><img src=\"https://colab.research.google.com/assets/colab-badge.svg\" alt=\"Open In Colab\"/></a>"
      ]
    },
    {
      "cell_type": "markdown",
      "metadata": {
        "id": "_WjON_lLrWrE"
      },
      "source": [
        "# **MATPLOT**"
      ]
    },
    {
      "cell_type": "code",
      "metadata": {
        "id": "Vu0qTGl59YhW"
      },
      "source": [
        "import matplotlib.pyplot as plt\n",
        "%matplotlib inline\n",
        "import numpy as np"
      ],
      "execution_count": 7,
      "outputs": []
    },
    {
      "cell_type": "markdown",
      "metadata": {
        "id": "20jaWkt1reRX"
      },
      "source": [
        ""
      ]
    },
    {
      "cell_type": "markdown",
      "metadata": {
        "id": "QBQICaTGremu"
      },
      "source": [
        "**SCATTER PLOT**"
      ]
    },
    {
      "cell_type": "code",
      "metadata": {
        "colab": {
          "base_uri": "https://localhost:8080/",
          "height": 313
        },
        "id": "1GC4O14XUksH",
        "outputId": "3c0fafe5-efea-4a32-8e0f-428bddb260e5"
      },
      "source": [
        "x=np.arange(0,10)\n",
        "y=np.arange(11,21)\n",
        "plt.scatter(x,y,c='g')\n",
        "plt.xlabel('X')\n",
        "plt.ylabel('Y')\n",
        "plt.title('GRAPH')\n"
      ],
      "execution_count": 14,
      "outputs": [
        {
          "output_type": "execute_result",
          "data": {
            "text/plain": [
              "Text(0.5, 1.0, 'GRAPH')"
            ]
          },
          "metadata": {
            "tags": []
          },
          "execution_count": 14
        },
        {
          "output_type": "display_data",
          "data": {
            "image/png": "[encoded data removed]",
            "text/plain": [
              "<Figure size 432x288 with 1 Axes>"
            ]
          },
          "metadata": {
            "tags": [],
            "needs_background": "light"
          }
        }
      ]
    },
    {
      "cell_type": "code",
      "metadata": {
        "colab": {
          "base_uri": "https://localhost:8080/",
          "height": 338
        },
        "id": "A5sEzqzJVsNh",
        "outputId": "08c08b5d-f8de-46c3-a13c-25e0a2db66bf"
      },
      "source": [
        "x=np.arange(0,10)\n",
        "y=np.arange(11,21)\n",
        "y=x*x\n",
        "plt.subplot(2,2,1)\n",
        "plt.plot(x,y,'r:D',linewidth=2,markersize=10) \n",
        "plt.subplot(2,2,2)\n",
        "plt.plot(x,y,'b-s',linewidth=2,markersize=3) \n",
        "\n",
        "plt.subplot(2,2,3)\n",
        "x=np.arange(0,4*np.pi,0.1)\n",
        "y=np.sin(x)\n",
        "plt.plot(x,y,'b^',linewidth=2,markersize=1) \n",
        "plt.subplot(2,2,3)\n",
        "y=np.cos(x)\n",
        "plt.plot(x,y,'b^',linewidth=2,markersize=1)"
      ],
      "execution_count": 56,
      "outputs": [
        {
          "output_type": "stream",
          "text": [
            "/usr/local/lib/python3.7/dist-packages/ipykernel_launcher.py:13: MatplotlibDeprecationWarning: Adding an axes using the same arguments as a previous axes currently reuses the earlier instance.  In a future version, a new instance will always be created and returned.  Meanwhile, this warning can be suppressed, and the future behavior ensured, by passing a unique label to each axes instance.\n",
            "  del sys.path[0]\n"
          ],
          "name": "stderr"
        },
        {
          "output_type": "execute_result",
          "data": {
            "text/plain": [
              "[<matplotlib.lines.Line2D at 0x7f34e15a3810>]"
            ]
          },
          "metadata": {
            "tags": []
          },
          "execution_count": 56
        },
        {
          "output_type": "display_data",
          "data": {
            "image/png": "[encoded data removed]",
            "text/plain": [
              "<Figure size 432x288 with 3 Axes>"
            ]
          },
          "metadata": {
            "tags": [],
            "needs_background": "light"
          }
        }
      ]
    },
    {
      "cell_type": "markdown",
      "metadata": {
        "id": "LxF3UloLrkka"
      },
      "source": [
        "**BARPLOT**"
      ]
    },
    {
      "cell_type": "code",
      "metadata": {
        "colab": {
          "base_uri": "https://localhost:8080/",
          "height": 283
        },
        "id": "o3eeeSowd0x5",
        "outputId": "76fb5814-c585-4dc0-9a43-adfcf7a41a2c"
      },
      "source": [
        "x=[2,8,10]\n",
        "y=[11,16,9]\n",
        "x2=[3,9,11]\n",
        "y2=[6,15,7]\n",
        "plt.bar(x,y)\n",
        "plt.bar(x2,y2,color='g')"
      ],
      "execution_count": 57,
      "outputs": [
        {
          "output_type": "execute_result",
          "data": {
            "text/plain": [
              "<BarContainer object of 3 artists>"
            ]
          },
          "metadata": {
            "tags": []
          },
          "execution_count": 57
        },
        {
          "output_type": "display_data",
          "data": {
            "image/png": "[encoded data removed]",
            "text/plain": [
              "<Figure size 432x288 with 1 Axes>"
            ]
          },
          "metadata": {
            "tags": [],
            "needs_background": "light"
          }
        }
      ]
    },
    {
      "cell_type": "markdown",
      "metadata": {
        "id": "hFI8ljJJrpy_"
      },
      "source": [
        "**HISTOGRAM**"
      ]
    },
    {
      "cell_type": "code",
      "metadata": {
        "colab": {
          "base_uri": "https://localhost:8080/",
          "height": 318
        },
        "id": "rHilrLybeVeo",
        "outputId": "e11fb72c-a54e-4296-baab-42cb685f0455"
      },
      "source": [
        "a=np.array([2,56,5,2,66,1,22,9])\n",
        "plt.subplot(2,1,1)\n",
        "plt.hist(a,bins=5)\n",
        "plt.subplot(2,1,2)\n",
        "plt.hist(a,bins=10)"
      ],
      "execution_count": 69,
      "outputs": [
        {
          "output_type": "execute_result",
          "data": {
            "text/plain": [
              "(array([4., 1., 0., 1., 0., 0., 0., 0., 1., 1.]),\n",
              " array([ 1. ,  7.5, 14. , 20.5, 27. , 33.5, 40. , 46.5, 53. , 59.5, 66. ]),\n",
              " <a list of 10 Patch objects>)"
            ]
          },
          "metadata": {
            "tags": []
          },
          "execution_count": 69
        },
        {
          "output_type": "display_data",
          "data": {
            "image/png": "[encoded data removed]",
            "text/plain": [
              "<Figure size 432x288 with 2 Axes>"
            ]
          },
          "metadata": {
            "tags": [],
            "needs_background": "light"
          }
        }
      ]
    },
    {
      "cell_type": "code",
      "metadata": {
        "colab": {
          "base_uri": "https://localhost:8080/",
          "height": 425
        },
        "id": "s8Po7nx5gK_6",
        "outputId": "79884b00-5636-4dc8-e59b-761fab2d045e"
      },
      "source": [
        "plt.subplot(2,1,1)\n",
        "plt.hist(a,bins=20)\n",
        "plt.subplot(2,1,2)\n",
        "plt.hist(a,bins=50)"
      ],
      "execution_count": 72,
      "outputs": [
        {
          "output_type": "execute_result",
          "data": {
            "text/plain": [
              "(array([3., 0., 0., 1., 0., 0., 1., 0., 0., 0., 0., 0., 0., 0., 0., 0., 1.,\n",
              "        0., 0., 0., 0., 0., 0., 0., 0., 0., 0., 0., 0., 0., 0., 0., 0., 0.,\n",
              "        0., 0., 0., 0., 0., 0., 0., 0., 1., 0., 0., 0., 0., 0., 0., 1.]),\n",
              " array([ 1. ,  2.3,  3.6,  4.9,  6.2,  7.5,  8.8, 10.1, 11.4, 12.7, 14. ,\n",
              "        15.3, 16.6, 17.9, 19.2, 20.5, 21.8, 23.1, 24.4, 25.7, 27. , 28.3,\n",
              "        29.6, 30.9, 32.2, 33.5, 34.8, 36.1, 37.4, 38.7, 40. , 41.3, 42.6,\n",
              "        43.9, 45.2, 46.5, 47.8, 49.1, 50.4, 51.7, 53. , 54.3, 55.6, 56.9,\n",
              "        58.2, 59.5, 60.8, 62.1, 63.4, 64.7, 66. ]),\n",
              " <a list of 50 Patch objects>)"
            ]
          },
          "metadata": {
            "tags": []
          },
          "execution_count": 72
        },
        {
          "output_type": "display_data",
          "data": {
            "image/png": "[encoded data removed]",
            "text/plain": [
              "<Figure size 432x288 with 2 Axes>"
            ]
          },
          "metadata": {
            "tags": [],
            "needs_background": "light"
          }
        }
      ]
    },
    {
      "cell_type": "markdown",
      "metadata": {
        "id": "wgVNUN6sruP6"
      },
      "source": [
        "**BOXPLOT**"
      ]
    },
    {
      "cell_type": "code",
      "metadata": {
        "colab": {
          "base_uri": "https://localhost:8080/",
          "height": 656
        },
        "id": "Q3ouWVDdV66W",
        "outputId": "be410f95-dc25-45d3-8ef2-e9c06fe07ee0"
      },
      "source": [
        "data=[np.random.normal(0,std,100) for std in range(1,4)]\n",
        "plt.boxplot(data,vert=True,patch_artist=True)"
      ],
      "execution_count": 74,
      "outputs": [
        {
          "output_type": "execute_result",
          "data": {
            "text/plain": [
              "{'boxes': [<matplotlib.patches.PathPatch at 0x7f34dc6bf290>,\n",
              "  <matplotlib.patches.PathPatch at 0x7f34dc699090>,\n",
              "  <matplotlib.patches.PathPatch at 0x7f34dc66ec90>],\n",
              " 'caps': [<matplotlib.lines.Line2D at 0x7f34dc66f850>,\n",
              "  <matplotlib.lines.Line2D at 0x7f34dc66fbd0>,\n",
              "  <matplotlib.lines.Line2D at 0x7f34dc648cd0>,\n",
              "  <matplotlib.lines.Line2D at 0x7f34dc648690>,\n",
              "  <matplotlib.lines.Line2D at 0x7f34dc66d650>,\n",
              "  <matplotlib.lines.Line2D at 0x7f34dc63d410>],\n",
              " 'fliers': [<matplotlib.lines.Line2D at 0x7f34dc699650>,\n",
              "  <matplotlib.lines.Line2D at 0x7f34dc66ed10>,\n",
              "  <matplotlib.lines.Line2D at 0x7f34dc63de90>],\n",
              " 'means': [],\n",
              " 'medians': [<matplotlib.lines.Line2D at 0x7f34dc6998d0>,\n",
              "  <matplotlib.lines.Line2D at 0x7f34dc66e150>,\n",
              "  <matplotlib.lines.Line2D at 0x7f34dc63d950>],\n",
              " 'whiskers': [<matplotlib.lines.Line2D at 0x7f34dc6a0c90>,\n",
              "  <matplotlib.lines.Line2D at 0x7f34dc66f250>,\n",
              "  <matplotlib.lines.Line2D at 0x7f34dc6e5450>,\n",
              "  <matplotlib.lines.Line2D at 0x7f34dc9f2fd0>,\n",
              "  <matplotlib.lines.Line2D at 0x7f34dc66d150>,\n",
              "  <matplotlib.lines.Line2D at 0x7f34dc66d410>]}"
            ]
          },
          "metadata": {
            "tags": []
          },
          "execution_count": 74
        },
        {
          "output_type": "display_data",
          "data": {
            "image/png": "[encoded data removed]",
            "text/plain": [
              "<Figure size 432x288 with 1 Axes>"
            ]
          },
          "metadata": {
            "tags": [],
            "needs_background": "light"
          }
        }
      ]
    },
    {
      "cell_type": "markdown",
      "metadata": {
        "id": "xKsXEWW9rz73"
      },
      "source": [
        "**PIE CHART**"
      ]
    },
    {
      "cell_type": "code",
      "metadata": {
        "colab": {
          "base_uri": "https://localhost:8080/",
          "height": 461
        },
        "id": "HMdk-G8Jik9g",
        "outputId": "b48eca84-fcd2-4550-cf74-6dff330b4d5b"
      },
      "source": [
        "labels='p','c','f','h'\n",
        "sizes=[15,14,9,3]\n",
        "colors=['gold','blue','green','red']\n",
        "explode=(0,0.4,0,0)\n",
        "plt.pie(sizes,explode=explode,labels=labels, colors=colors,autopct='%1.1f%%',shadow=True)"
      ],
      "execution_count": 80,
      "outputs": [
        {
          "output_type": "execute_result",
          "data": {
            "text/plain": [
              "([<matplotlib.patches.Wedge at 0x7f34dc3cebd0>,\n",
              "  <matplotlib.patches.Wedge at 0x7f34dc3d95d0>,\n",
              "  <matplotlib.patches.Wedge at 0x7f34dc3e4150>,\n",
              "  <matplotlib.patches.Wedge at 0x7f34dc3e4bd0>],\n",
              " [Text(0.44997547338265026, 1.0037539904548625, 'p'),\n",
              "  Text(-1.4605431147436418, -0.34178035340689483, 'c'),\n",
              "  Text(0.4499755673608788, -1.0037539483251139, 'f'),\n",
              "  Text(1.0710649801451337, -0.2506388004812994, 'h')],\n",
              " [Text(0.2454411672996274, 0.547502176611743, '36.6%'),\n",
              "  Text(-0.9736954098290944, -0.22785356893792985, '34.1%'),\n",
              "  Text(0.24544121856047932, -0.5475021536318803, '22.0%'),\n",
              "  Text(0.5842172618973456, -0.13671207298979965, '7.3%')])"
            ]
          },
          "metadata": {
            "tags": []
          },
          "execution_count": 80
        },
        {
          "output_type": "display_data",
          "data": {
            "image/png": "[encoded data removed]",
            "text/plain": [
              "<Figure size 432x288 with 1 Axes>"
            ]
          },
          "metadata": {
            "tags": []
          }
        }
      ]
    },
    {
      "cell_type": "markdown",
      "metadata": {
        "id": "vnRpTKJirU3k"
      },
      "source": [
        "**SEABORN**"
      ]
    },
    {
      "cell_type": "code",
      "metadata": {
        "colab": {
          "base_uri": "https://localhost:8080/",
          "height": 194
        },
        "id": "Y0DDIzqBrB_N",
        "outputId": "f6963c0c-0bab-4d6d-f00d-8a0f8eb6df24"
      },
      "source": [
        "import seaborn as sns\n",
        "df=sns.load_dataset(\"tips\")\n",
        "df.head()"
      ],
      "execution_count": 83,
      "outputs": [
        {
          "output_type": "execute_result",
          "data": {
            "text/html": [
              "<div>\n",
              "<style scoped>\n",
              "    .dataframe tbody tr th:only-of-type {\n",
              "        vertical-align: middle;\n",
              "    }\n",
              "\n",
              "    .dataframe tbody tr th {\n",
              "        vertical-align: top;\n",
              "    }\n",
              "\n",
              "    .dataframe thead th {\n",
              "        text-align: right;\n",
              "    }\n",
              "</style>\n",
              "<table border=\"1\" class=\"dataframe\">\n",
              "  <thead>\n",
              "    <tr style=\"text-align: right;\">\n",
              "      <th></th>\n",
              "      <th>total_bill</th>\n",
              "      <th>tip</th>\n",
              "      <th>sex</th>\n",
              "      <th>smoker</th>\n",
              "      <th>day</th>\n",
              "      <th>time</th>\n",
              "      <th>size</th>\n",
              "    </tr>\n",
              "  </thead>\n",
              "  <tbody>\n",
              "    <tr>\n",
              "      <th>0</th>\n",
              "      <td>16.99</td>\n",
              "      <td>1.01</td>\n",
              "      <td>Female</td>\n",
              "      <td>No</td>\n",
              "      <td>Sun</td>\n",
              "      <td>Dinner</td>\n",
              "      <td>2</td>\n",
              "    </tr>\n",
              "    <tr>\n",
              "      <th>1</th>\n",
              "      <td>10.34</td>\n",
              "      <td>1.66</td>\n",
              "      <td>Male</td>\n",
              "      <td>No</td>\n",
              "      <td>Sun</td>\n",
              "      <td>Dinner</td>\n",
              "      <td>3</td>\n",
              "    </tr>\n",
              "    <tr>\n",
              "      <th>2</th>\n",
              "      <td>21.01</td>\n",
              "      <td>3.50</td>\n",
              "      <td>Male</td>\n",
              "      <td>No</td>\n",
              "      <td>Sun</td>\n",
              "      <td>Dinner</td>\n",
              "      <td>3</td>\n",
              "    </tr>\n",
              "    <tr>\n",
              "      <th>3</th>\n",
              "      <td>23.68</td>\n",
              "      <td>3.31</td>\n",
              "      <td>Male</td>\n",
              "      <td>No</td>\n",
              "      <td>Sun</td>\n",
              "      <td>Dinner</td>\n",
              "      <td>2</td>\n",
              "    </tr>\n",
              "    <tr>\n",
              "      <th>4</th>\n",
              "      <td>24.59</td>\n",
              "      <td>3.61</td>\n",
              "      <td>Female</td>\n",
              "      <td>No</td>\n",
              "      <td>Sun</td>\n",
              "      <td>Dinner</td>\n",
              "      <td>4</td>\n",
              "    </tr>\n",
              "  </tbody>\n",
              "</table>\n",
              "</div>"
            ],
            "text/plain": [
              "   total_bill   tip     sex smoker  day    time  size\n",
              "0       16.99  1.01  Female     No  Sun  Dinner     2\n",
              "1       10.34  1.66    Male     No  Sun  Dinner     3\n",
              "2       21.01  3.50    Male     No  Sun  Dinner     3\n",
              "3       23.68  3.31    Male     No  Sun  Dinner     2\n",
              "4       24.59  3.61  Female     No  Sun  Dinner     4"
            ]
          },
          "metadata": {
            "tags": []
          },
          "execution_count": 83
        }
      ]
    }
  ]
}