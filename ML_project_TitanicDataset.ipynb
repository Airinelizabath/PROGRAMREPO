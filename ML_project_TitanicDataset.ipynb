{
  "nbformat": 4,
  "nbformat_minor": 0,
  "metadata": {
    "colab": {
      "name": "ML_project-TitanicDataset.ipynb",
      "provenance": [],
      "collapsed_sections": [
        "qbxT-_ko_3yy"
      ],
      "include_colab_link": true
    },
    "kernelspec": {
      "name": "python3",
      "display_name": "Python 3"
    },
    "language_info": {
      "name": "python"
    }
  },
  "cells": [
    {
      "cell_type": "markdown",
      "metadata": {
        "id": "view-in-github",
        "colab_type": "text"
      },
      "source": [
        "<a href=\"https://colab.research.google.com/github/Airinelizabath/PROGRAMREPO/blob/main/ML_project_TitanicDataset.ipynb\" target=\"_parent\"><img src=\"https://colab.research.google.com/assets/colab-badge.svg\" alt=\"Open In Colab\"/></a>"
      ]
    },
    {
      "cell_type": "markdown",
      "metadata": {
        "id": "o8pH20Okk6Py"
      },
      "source": [
        "# **TITANIC DATASET**"
      ]
    },
    {
      "cell_type": "code",
      "metadata": {
        "id": "PvrvUQptSPNy"
      },
      "source": [
        "import pandas as pd\n",
        "import numpy as np\n",
        "from sklearn.cluster import KMeans\n",
        "from sklearn.preprocessing import LabelEncoder\n",
        "from sklearn.preprocessing import MinMaxScaler\n",
        "\n",
        "import seaborn as sns\n",
        "import matplotlib.pyplot as plt\n",
        "%matplotlib inline"
      ],
      "execution_count": null,
      "outputs": []
    },
    {
      "cell_type": "code",
      "metadata": {
        "id": "07VrMK8c4NyO"
      },
      "source": [
        "train_url = \"http://s3.amazonaws.com/assets.datacamp.com/course/Kaggle/train.csv\"\n",
        "train = pd.read_csv(train_url)\n",
        "test_url = \"http://s3.amazonaws.com/assets.datacamp.com/course/Kaggle/test.csv\"\n",
        "test = pd.read_csv(test_url)"
      ],
      "execution_count": null,
      "outputs": []
    },
    {
      "cell_type": "code",
      "metadata": {
        "colab": {
          "base_uri": "https://localhost:8080/"
        },
        "id": "5xyPaVNy3b7D",
        "outputId": "cc4b9b52-6efd-4ff3-ae76-ec055e3528b7"
      },
      "source": [
        "train.shape"
      ],
      "execution_count": null,
      "outputs": [
        {
          "output_type": "execute_result",
          "data": {
            "text/plain": [
              "(891, 12)"
            ]
          },
          "metadata": {
            "tags": []
          },
          "execution_count": 546
        }
      ]
    },
    {
      "cell_type": "code",
      "metadata": {
        "colab": {
          "base_uri": "https://localhost:8080/"
        },
        "id": "KSvbtbKi3gj8",
        "outputId": "b7f1a86a-92a2-483a-fde2-4c41e0186fb0"
      },
      "source": [
        "test.shape"
      ],
      "execution_count": null,
      "outputs": [
        {
          "output_type": "execute_result",
          "data": {
            "text/plain": [
              "(418, 11)"
            ]
          },
          "metadata": {
            "tags": []
          },
          "execution_count": 547
        }
      ]
    },
    {
      "cell_type": "code",
      "metadata": {
        "colab": {
          "base_uri": "https://localhost:8080/"
        },
        "id": "l-xOH-M99ii7",
        "outputId": "c1158e3c-754a-459a-de40-fb0ec57c05fc"
      },
      "source": [
        "train.columns"
      ],
      "execution_count": null,
      "outputs": [
        {
          "output_type": "execute_result",
          "data": {
            "text/plain": [
              "Index(['PassengerId', 'Survived', 'Pclass', 'Name', 'Sex', 'Age', 'SibSp',\n",
              "       'Parch', 'Ticket', 'Fare', 'Cabin', 'Embarked'],\n",
              "      dtype='object')"
            ]
          },
          "metadata": {
            "tags": []
          },
          "execution_count": 548
        }
      ]
    },
    {
      "cell_type": "code",
      "metadata": {
        "colab": {
          "base_uri": "https://localhost:8080/",
          "height": 194
        },
        "id": "ua7wdEiQ2kti",
        "outputId": "ef3a669f-dcdb-4dca-e07a-fe3862ebb17e"
      },
      "source": [
        "train.head(5)"
      ],
      "execution_count": null,
      "outputs": [
        {
          "output_type": "execute_result",
          "data": {
            "text/html": [
              "<div>\n",
              "<style scoped>\n",
              "    .dataframe tbody tr th:only-of-type {\n",
              "        vertical-align: middle;\n",
              "    }\n",
              "\n",
              "    .dataframe tbody tr th {\n",
              "        vertical-align: top;\n",
              "    }\n",
              "\n",
              "    .dataframe thead th {\n",
              "        text-align: right;\n",
              "    }\n",
              "</style>\n",
              "<table border=\"1\" class=\"dataframe\">\n",
              "  <thead>\n",
              "    <tr style=\"text-align: right;\">\n",
              "      <th></th>\n",
              "      <th>PassengerId</th>\n",
              "      <th>Survived</th>\n",
              "      <th>Pclass</th>\n",
              "      <th>Name</th>\n",
              "      <th>Sex</th>\n",
              "      <th>Age</th>\n",
              "      <th>SibSp</th>\n",
              "      <th>Parch</th>\n",
              "      <th>Ticket</th>\n",
              "      <th>Fare</th>\n",
              "      <th>Cabin</th>\n",
              "      <th>Embarked</th>\n",
              "    </tr>\n",
              "  </thead>\n",
              "  <tbody>\n",
              "    <tr>\n",
              "      <th>0</th>\n",
              "      <td>1</td>\n",
              "      <td>0</td>\n",
              "      <td>3</td>\n",
              "      <td>Braund, Mr. Owen Harris</td>\n",
              "      <td>male</td>\n",
              "      <td>22.0</td>\n",
              "      <td>1</td>\n",
              "      <td>0</td>\n",
              "      <td>A/5 21171</td>\n",
              "      <td>7.2500</td>\n",
              "      <td>NaN</td>\n",
              "      <td>S</td>\n",
              "    </tr>\n",
              "    <tr>\n",
              "      <th>1</th>\n",
              "      <td>2</td>\n",
              "      <td>1</td>\n",
              "      <td>1</td>\n",
              "      <td>Cumings, Mrs. John Bradley (Florence Briggs Th...</td>\n",
              "      <td>female</td>\n",
              "      <td>38.0</td>\n",
              "      <td>1</td>\n",
              "      <td>0</td>\n",
              "      <td>PC 17599</td>\n",
              "      <td>71.2833</td>\n",
              "      <td>C85</td>\n",
              "      <td>C</td>\n",
              "    </tr>\n",
              "    <tr>\n",
              "      <th>2</th>\n",
              "      <td>3</td>\n",
              "      <td>1</td>\n",
              "      <td>3</td>\n",
              "      <td>Heikkinen, Miss. Laina</td>\n",
              "      <td>female</td>\n",
              "      <td>26.0</td>\n",
              "      <td>0</td>\n",
              "      <td>0</td>\n",
              "      <td>STON/O2. 3101282</td>\n",
              "      <td>7.9250</td>\n",
              "      <td>NaN</td>\n",
              "      <td>S</td>\n",
              "    </tr>\n",
              "    <tr>\n",
              "      <th>3</th>\n",
              "      <td>4</td>\n",
              "      <td>1</td>\n",
              "      <td>1</td>\n",
              "      <td>Futrelle, Mrs. Jacques Heath (Lily May Peel)</td>\n",
              "      <td>female</td>\n",
              "      <td>35.0</td>\n",
              "      <td>1</td>\n",
              "      <td>0</td>\n",
              "      <td>113803</td>\n",
              "      <td>53.1000</td>\n",
              "      <td>C123</td>\n",
              "      <td>S</td>\n",
              "    </tr>\n",
              "    <tr>\n",
              "      <th>4</th>\n",
              "      <td>5</td>\n",
              "      <td>0</td>\n",
              "      <td>3</td>\n",
              "      <td>Allen, Mr. William Henry</td>\n",
              "      <td>male</td>\n",
              "      <td>35.0</td>\n",
              "      <td>0</td>\n",
              "      <td>0</td>\n",
              "      <td>373450</td>\n",
              "      <td>8.0500</td>\n",
              "      <td>NaN</td>\n",
              "      <td>S</td>\n",
              "    </tr>\n",
              "  </tbody>\n",
              "</table>\n",
              "</div>"
            ],
            "text/plain": [
              "   PassengerId  Survived  Pclass  ...     Fare Cabin  Embarked\n",
              "0            1         0       3  ...   7.2500   NaN         S\n",
              "1            2         1       1  ...  71.2833   C85         C\n",
              "2            3         1       3  ...   7.9250   NaN         S\n",
              "3            4         1       1  ...  53.1000  C123         S\n",
              "4            5         0       3  ...   8.0500   NaN         S\n",
              "\n",
              "[5 rows x 12 columns]"
            ]
          },
          "metadata": {
            "tags": []
          },
          "execution_count": 549
        }
      ]
    },
    {
      "cell_type": "code",
      "metadata": {
        "colab": {
          "base_uri": "https://localhost:8080/"
        },
        "id": "hyk6Vp3H4zjN",
        "outputId": "a9eb6fbc-a83e-4e60-9abf-cc72954ab83a"
      },
      "source": [
        "print(\"***** Train_Set *****\")\n",
        "print(train.describe())\n",
        "print(\"\\n\")\n",
        "print(\"***** Test_Set *****\")\n",
        "print(test.describe())"
      ],
      "execution_count": null,
      "outputs": [
        {
          "output_type": "stream",
          "text": [
            "***** Train_Set *****\n",
            "       PassengerId    Survived      Pclass  ...       SibSp       Parch        Fare\n",
            "count   891.000000  891.000000  891.000000  ...  891.000000  891.000000  891.000000\n",
            "mean    446.000000    0.383838    2.308642  ...    0.523008    0.381594   32.204208\n",
            "std     257.353842    0.486592    0.836071  ...    1.102743    0.806057   49.693429\n",
            "min       1.000000    0.000000    1.000000  ...    0.000000    0.000000    0.000000\n",
            "25%     223.500000    0.000000    2.000000  ...    0.000000    0.000000    7.910400\n",
            "50%     446.000000    0.000000    3.000000  ...    0.000000    0.000000   14.454200\n",
            "75%     668.500000    1.000000    3.000000  ...    1.000000    0.000000   31.000000\n",
            "max     891.000000    1.000000    3.000000  ...    8.000000    6.000000  512.329200\n",
            "\n",
            "[8 rows x 7 columns]\n",
            "\n",
            "\n",
            "***** Test_Set *****\n",
            "       PassengerId      Pclass         Age       SibSp       Parch        Fare\n",
            "count   418.000000  418.000000  332.000000  418.000000  418.000000  417.000000\n",
            "mean   1100.500000    2.265550   30.272590    0.447368    0.392344   35.627188\n",
            "std     120.810458    0.841838   14.181209    0.896760    0.981429   55.907576\n",
            "min     892.000000    1.000000    0.170000    0.000000    0.000000    0.000000\n",
            "25%     996.250000    1.000000   21.000000    0.000000    0.000000    7.895800\n",
            "50%    1100.500000    3.000000   27.000000    0.000000    0.000000   14.454200\n",
            "75%    1204.750000    3.000000   39.000000    1.000000    0.000000   31.500000\n",
            "max    1309.000000    3.000000   76.000000    8.000000    9.000000  512.329200\n"
          ],
          "name": "stdout"
        }
      ]
    },
    {
      "cell_type": "code",
      "metadata": {
        "colab": {
          "base_uri": "https://localhost:8080/"
        },
        "id": "iFtg0gDw3HcG",
        "outputId": "4492baad-8849-4806-fb49-3fbf2833ffc8"
      },
      "source": [
        "#percentage of missing values in train and test set\n",
        "\n",
        "data=[train,test]\n",
        "for datasets in data:\n",
        "  total = datasets.isnull().sum().sort_values(ascending=False)\n",
        "  percent_1 = datasets.isnull().sum()/datasets.isnull().count()*100\n",
        "  percent_2 = (round(percent_1, 1)).sort_values(ascending=False)\n",
        "  missing_data = pd.concat([total, percent_2], axis=1, keys=['TotalMissing', '%Missing'])\n",
        "  print(missing_data.head(5))"
      ],
      "execution_count": null,
      "outputs": [
        {
          "output_type": "stream",
          "text": [
            "          TotalMissing  %Missing\n",
            "Cabin              687      77.1\n",
            "Age                177      19.9\n",
            "Embarked             2       0.2\n",
            "Fare                 0       0.0\n",
            "Ticket               0       0.0\n",
            "          TotalMissing  %Missing\n",
            "Cabin              327      78.2\n",
            "Age                 86      20.6\n",
            "Fare                 1       0.2\n",
            "Embarked             0       0.0\n",
            "Ticket               0       0.0\n"
          ],
          "name": "stdout"
        }
      ]
    },
    {
      "cell_type": "code",
      "metadata": {
        "colab": {
          "base_uri": "https://localhost:8080/",
          "height": 338
        },
        "id": "8Dyet9095Ebc",
        "outputId": "40985433-fdbf-46a5-f11a-a1a3fdea012c"
      },
      "source": [
        "#visualizatio of missing values\n",
        "\n",
        "fig, (ax1,ax2,axcb) = plt.subplots(1, 3,gridspec_kw={'width_ratios':[1,1,0.08]})\n",
        "sns.heatmap(train.isnull(),yticklabels=False,cmap='viridis',ax=ax1,cbar=False)\n",
        "sns.heatmap(test.isnull(),yticklabels=False,cbar=True,cmap='viridis',ax=ax2,cbar_ax=axcb)\n"
      ],
      "execution_count": null,
      "outputs": [
        {
          "output_type": "execute_result",
          "data": {
            "text/plain": [
              "<matplotlib.axes._subplots.AxesSubplot at 0x7f953306d750>"
            ]
          },
          "metadata": {
            "tags": []
          },
          "execution_count": 552
        },
        {
          "output_type": "display_data",
          "data": {
            "image/png": "[encoded data removed]",
            "text/plain": [
              "<Figure size 432x288 with 3 Axes>"
            ]
          },
          "metadata": {
            "tags": [],
            "needs_background": "light"
          }
        }
      ]
    },
    {
      "cell_type": "markdown",
      "metadata": {
        "id": "mgQu-Nl_mD6F"
      },
      "source": [
        "**CHECKING CORREALTIONS**"
      ]
    },
    {
      "cell_type": "code",
      "metadata": {
        "colab": {
          "base_uri": "https://localhost:8080/",
          "height": 498
        },
        "id": "vOOxt4LBBtt8",
        "outputId": "6a8695e9-c598-40cc-eb1f-89d54ce2d02f"
      },
      "source": [
        "sns.heatmap(train.corr())\n",
        "print(train.corr())"
      ],
      "execution_count": null,
      "outputs": [
        {
          "output_type": "stream",
          "text": [
            "             PassengerId  Survived    Pclass  ...     SibSp     Parch      Fare\n",
            "PassengerId     1.000000 -0.005007 -0.035144  ... -0.057527 -0.001652  0.012658\n",
            "Survived       -0.005007  1.000000 -0.338481  ... -0.035322  0.081629  0.257307\n",
            "Pclass         -0.035144 -0.338481  1.000000  ...  0.083081  0.018443 -0.549500\n",
            "Age             0.036847 -0.077221 -0.369226  ... -0.308247 -0.189119  0.096067\n",
            "SibSp          -0.057527 -0.035322  0.083081  ...  1.000000  0.414838  0.159651\n",
            "Parch          -0.001652  0.081629  0.018443  ...  0.414838  1.000000  0.216225\n",
            "Fare            0.012658  0.257307 -0.549500  ...  0.159651  0.216225  1.000000\n",
            "\n",
            "[7 rows x 7 columns]\n"
          ],
          "name": "stdout"
        },
        {
          "output_type": "display_data",
          "data": {
            "image/png": "[encoded data removed]",
            "text/plain": [
              "<Figure size 432x288 with 2 Axes>"
            ]
          },
          "metadata": {
            "tags": [],
            "needs_background": "light"
          }
        }
      ]
    },
    {
      "cell_type": "code",
      "metadata": {
        "colab": {
          "base_uri": "https://localhost:8080/",
          "height": 675
        },
        "id": "4EAGVtmdGTCc",
        "outputId": "9982eb3e-fd22-4d94-adbc-47f1144db436"
      },
      "source": [
        "#relation between embarkment and survival.. women from S & Q have higher survival rate whereas it is high for men in C\n",
        "\n",
        "FacetGrid = sns.FacetGrid(train, row='Embarked')\n",
        "FacetGrid.map(sns.pointplot, 'Pclass', 'Survived', 'Sex', palette=None,  order=None, hue_order=None )\n",
        "FacetGrid.add_legend()\n"
      ],
      "execution_count": null,
      "outputs": [
        {
          "output_type": "execute_result",
          "data": {
            "text/plain": [
              "<seaborn.axisgrid.FacetGrid at 0x7f95399761d0>"
            ]
          },
          "metadata": {
            "tags": []
          },
          "execution_count": 554
        },
        {
          "output_type": "display_data",
          "data": {
            "image/png": "[encoded data removed]",
            "text/plain": [
              "<Figure size 286.5x648 with 3 Axes>"
            ]
          },
          "metadata": {
            "tags": [],
            "needs_background": "light"
          }
        }
      ]
    },
    {
      "cell_type": "code",
      "metadata": {
        "colab": {
          "base_uri": "https://localhost:8080/",
          "height": 297
        },
        "id": "vlR0IGtXHKYF",
        "outputId": "ad357a75-953a-44e5-b79f-91884a669b57"
      },
      "source": [
        "#Pclass is contributing to a persons chance of survival. Class 1 has high survival rate\n",
        "\n",
        "\n",
        "sns.barplot(x='Pclass', y='Survived', data=train)\n"
      ],
      "execution_count": null,
      "outputs": [
        {
          "output_type": "execute_result",
          "data": {
            "text/plain": [
              "<matplotlib.axes._subplots.AxesSubplot at 0x7f9532e28090>"
            ]
          },
          "metadata": {
            "tags": []
          },
          "execution_count": 555
        },
        {
          "output_type": "display_data",
          "data": {
            "image/png": "[encoded data removed]",
            "text/plain": [
              "<Figure size 432x288 with 1 Axes>"
            ]
          },
          "metadata": {
            "tags": [],
            "needs_background": "light"
          }
        }
      ]
    },
    {
      "cell_type": "code",
      "metadata": {
        "colab": {
          "base_uri": "https://localhost:8080/",
          "height": 521
        },
        "id": "7yrIV9diHOuE",
        "outputId": "00171b37-4c57-4f11-a627-70439c41bd24"
      },
      "source": [
        "grid = sns.FacetGrid(train, col='Survived', row='Pclass', size=2.2, aspect=1.6)\n",
        "grid.map(plt.hist, 'Age', alpha=.5, bins=20)\n",
        "grid.add_legend();\n",
        "#The plot above confirms our assumption about pclass 1, but we can also spot a high probability that a person in pclass 3 will not survive"
      ],
      "execution_count": null,
      "outputs": [
        {
          "output_type": "stream",
          "text": [
            "/usr/local/lib/python3.7/dist-packages/seaborn/axisgrid.py:316: UserWarning: The `size` parameter has been renamed to `height`; please update your code.\n",
            "  warnings.warn(msg, UserWarning)\n"
          ],
          "name": "stderr"
        },
        {
          "output_type": "display_data",
          "data": {
            "image/png": "[encoded data removed]",
            "text/plain": [
              "<Figure size 514.88x475.2 with 6 Axes>"
            ]
          },
          "metadata": {
            "tags": [],
            "needs_background": "light"
          }
        }
      ]
    },
    {
      "cell_type": "code",
      "metadata": {
        "colab": {
          "base_uri": "https://localhost:8080/"
        },
        "id": "ZT57k0wMGsuK",
        "outputId": "de8d9d38-9b2b-4c4c-f19c-0ef5c7b921c8"
      },
      "source": [
        "train.info()"
      ],
      "execution_count": null,
      "outputs": [
        {
          "output_type": "stream",
          "text": [
            "<class 'pandas.core.frame.DataFrame'>\n",
            "RangeIndex: 891 entries, 0 to 890\n",
            "Data columns (total 12 columns):\n",
            " #   Column       Non-Null Count  Dtype  \n",
            "---  ------       --------------  -----  \n",
            " 0   PassengerId  891 non-null    int64  \n",
            " 1   Survived     891 non-null    int64  \n",
            " 2   Pclass       891 non-null    int64  \n",
            " 3   Name         891 non-null    object \n",
            " 4   Sex          891 non-null    object \n",
            " 5   Age          714 non-null    float64\n",
            " 6   SibSp        891 non-null    int64  \n",
            " 7   Parch        891 non-null    int64  \n",
            " 8   Ticket       891 non-null    object \n",
            " 9   Fare         891 non-null    float64\n",
            " 10  Cabin        204 non-null    object \n",
            " 11  Embarked     889 non-null    object \n",
            "dtypes: float64(2), int64(5), object(5)\n",
            "memory usage: 83.7+ KB\n"
          ],
          "name": "stdout"
        }
      ]
    },
    {
      "cell_type": "code",
      "metadata": {
        "colab": {
          "base_uri": "https://localhost:8080/",
          "height": 474
        },
        "id": "fdbBgnruHanN",
        "outputId": "2231e866-5fbd-413e-8b3b-fa2159e35967"
      },
      "source": [
        "data = [train, test]\n",
        "for dataset in data:\n",
        "    dataset['relatives'] = dataset['SibSp'] + dataset['Parch']\n",
        "    dataset.loc[dataset['relatives'] > 0, 'not_alone'] = 0\n",
        "    dataset.loc[dataset['relatives'] == 0, 'not_alone'] = 1\n",
        "    dataset['not_alone'] = dataset['not_alone'].astype(int)\n",
        "train['not_alone'].value_counts()\n",
        "axes = sns.factorplot('relatives','Survived', data=train, aspect = 2.5, )\n",
        "\n",
        "\n",
        "#high probabilty of survival with 1 to 3 realitves, but a lower one if you had less than 1 or more than 3 (except for some cases with 6 relatives)"
      ],
      "execution_count": null,
      "outputs": [
        {
          "output_type": "stream",
          "text": [
            "/usr/local/lib/python3.7/dist-packages/seaborn/categorical.py:3714: UserWarning: The `factorplot` function has been renamed to `catplot`. The original name will be removed in a future release. Please update your code. Note that the default `kind` in `factorplot` (`'point'`) has changed `'strip'` in `catplot`.\n",
            "  warnings.warn(msg)\n",
            "/usr/local/lib/python3.7/dist-packages/seaborn/_decorators.py:43: FutureWarning: Pass the following variables as keyword args: x, y. From version 0.12, the only valid positional argument will be `data`, and passing other arguments without an explicit keyword will result in an error or misinterpretation.\n",
            "  FutureWarning\n"
          ],
          "name": "stderr"
        },
        {
          "output_type": "display_data",
          "data": {
            "image/png": "[encoded data removed]",
            "text/plain": [
              "<Figure size 900x360 with 1 Axes>"
            ]
          },
          "metadata": {
            "tags": [],
            "needs_background": "light"
          }
        }
      ]
    },
    {
      "cell_type": "markdown",
      "metadata": {
        "id": "XyyOTF6uKBpD"
      },
      "source": [
        "# **PREPROCESSING**"
      ]
    },
    {
      "cell_type": "markdown",
      "metadata": {
        "id": "MmqOnnLl_y39"
      },
      "source": [
        "ADDING MISSING VALUES(IMPUTATION)"
      ]
    },
    {
      "cell_type": "code",
      "metadata": {
        "colab": {
          "base_uri": "https://localhost:8080/"
        },
        "id": "5uy_YjkKJdjJ",
        "outputId": "d7717eee-5f87-419c-871f-c8ea058d038e"
      },
      "source": [
        "#create an array that contains random numbers, which are computed based on the mean age value in regards to the standard deviation and is_null.\n",
        "#for loop is for train , test'''\n",
        "\n",
        "\n",
        "data = [train, test]\n",
        "\n",
        "for dataset in data:\n",
        "    mean = train[\"Age\"].mean()  #29.69911764705882 train\n",
        "    std = test[\"Age\"].std()      #14.526497332334044 train\n",
        "    is_null = dataset[\"Age\"].isnull().sum()  #177\n",
        "    # compute random numbers between the mean, std and is_null\n",
        "    rand_age = np.random.randint(mean - std, mean + std, size = is_null)\n",
        "    # fill NaN values in Age column with random values generated\n",
        "    age_slice = dataset[\"Age\"].copy()\n",
        "    age_slice[np.isnan(age_slice)] = rand_age\n",
        "    dataset[\"Age\"] = age_slice\n",
        "    dataset[\"Age\"] = train[\"Age\"].astype(int)\n",
        "train[\"Age\"].isnull().sum()\n",
        "\n"
      ],
      "execution_count": null,
      "outputs": [
        {
          "output_type": "execute_result",
          "data": {
            "text/plain": [
              "0"
            ]
          },
          "metadata": {
            "tags": []
          },
          "execution_count": 559
        }
      ]
    },
    {
      "cell_type": "code",
      "metadata": {
        "colab": {
          "base_uri": "https://localhost:8080/"
        },
        "id": "otQ1PO1rhQdU",
        "outputId": "d0a7e7c9-820d-48e7-87da-94ad65ca3e3d"
      },
      "source": [
        "train[\"Age\"].describe()"
      ],
      "execution_count": null,
      "outputs": [
        {
          "output_type": "execute_result",
          "data": {
            "text/plain": [
              "count    891.000000\n",
              "mean      29.507295\n",
              "std       13.459331\n",
              "min        0.000000\n",
              "25%       21.000000\n",
              "50%       28.000000\n",
              "75%       37.000000\n",
              "max       80.000000\n",
              "Name: Age, dtype: float64"
            ]
          },
          "metadata": {
            "tags": []
          },
          "execution_count": 560
        }
      ]
    },
    {
      "cell_type": "code",
      "metadata": {
        "colab": {
          "base_uri": "https://localhost:8080/"
        },
        "id": "hCC8fbyCJ-9_",
        "outputId": "9836a6d9-58cd-4aad-d64a-14dda30744de"
      },
      "source": [
        "train['Embarked'].describe()"
      ],
      "execution_count": null,
      "outputs": [
        {
          "output_type": "execute_result",
          "data": {
            "text/plain": [
              "count     889\n",
              "unique      3\n",
              "top         S\n",
              "freq      644\n",
              "Name: Embarked, dtype: object"
            ]
          },
          "metadata": {
            "tags": []
          },
          "execution_count": 561
        }
      ]
    },
    {
      "cell_type": "code",
      "metadata": {
        "id": "Zd334k79KE2R"
      },
      "source": [
        "#common value of embarkement is used to fill misssing data\n",
        "\n",
        "common_value = 'S'\n",
        "data = [train, test]\n",
        "\n",
        "for dataset in data:\n",
        "    dataset['Embarked'] = dataset['Embarked'].fillna(common_value)"
      ],
      "execution_count": null,
      "outputs": []
    },
    {
      "cell_type": "code",
      "metadata": {
        "colab": {
          "base_uri": "https://localhost:8080/"
        },
        "id": "YeRpzZKsKXVt",
        "outputId": "82f92d3d-4f3a-4f7b-ff5f-22c986a3ef1e"
      },
      "source": [
        "train.info()\n",
        "\n",
        "#every missing value is cleared"
      ],
      "execution_count": null,
      "outputs": [
        {
          "output_type": "stream",
          "text": [
            "<class 'pandas.core.frame.DataFrame'>\n",
            "RangeIndex: 891 entries, 0 to 890\n",
            "Data columns (total 14 columns):\n",
            " #   Column       Non-Null Count  Dtype  \n",
            "---  ------       --------------  -----  \n",
            " 0   PassengerId  891 non-null    int64  \n",
            " 1   Survived     891 non-null    int64  \n",
            " 2   Pclass       891 non-null    int64  \n",
            " 3   Name         891 non-null    object \n",
            " 4   Sex          891 non-null    object \n",
            " 5   Age          891 non-null    int64  \n",
            " 6   SibSp        891 non-null    int64  \n",
            " 7   Parch        891 non-null    int64  \n",
            " 8   Ticket       891 non-null    object \n",
            " 9   Fare         891 non-null    float64\n",
            " 10  Cabin        204 non-null    object \n",
            " 11  Embarked     891 non-null    object \n",
            " 12  relatives    891 non-null    int64  \n",
            " 13  not_alone    891 non-null    int64  \n",
            "dtypes: float64(1), int64(8), object(5)\n",
            "memory usage: 97.6+ KB\n"
          ],
          "name": "stdout"
        }
      ]
    },
    {
      "cell_type": "code",
      "metadata": {
        "id": "1JFqD4U7KpRa"
      },
      "source": [
        "#fare to int\n",
        "data = [train, test]\n",
        "for dataset in data:\n",
        "    dataset['Fare'] = dataset['Fare'].fillna(0)\n",
        "    dataset['Fare'] = dataset['Fare'].astype(int)"
      ],
      "execution_count": null,
      "outputs": []
    },
    {
      "cell_type": "markdown",
      "metadata": {
        "id": "MXqzC8jE_8r0"
      },
      "source": [
        "NON-NUMERIC TO NUMERIC"
      ]
    },
    {
      "cell_type": "code",
      "metadata": {
        "id": "0jLn69WmLCDF"
      },
      "source": [
        "#gender to numeric value\n",
        "genders = {\"male\": 0, \"female\": 1}\n",
        "data = [train, test]\n",
        "\n",
        "for dataset in data:\n",
        "    dataset['Sex'] = dataset['Sex'].map(genders)"
      ],
      "execution_count": null,
      "outputs": []
    },
    {
      "cell_type": "code",
      "metadata": {
        "id": "EhZoQXLxLp8h"
      },
      "source": [
        "#EMBARKED TO NUMERIC VALUES\n",
        "ports = {\"S\": 0, \"C\": 1, \"Q\": 2}\n",
        "data = [train, test]\n",
        "\n",
        "for dataset in data:\n",
        "    dataset['Embarked'] = dataset['Embarked'].map(ports)"
      ],
      "execution_count": null,
      "outputs": []
    },
    {
      "cell_type": "markdown",
      "metadata": {
        "id": "fRYCl09cAvz1"
      },
      "source": [
        "CATEGORICAL VALUES"
      ]
    },
    {
      "cell_type": "code",
      "metadata": {
        "id": "5idvSsSPLxuI"
      },
      "source": [
        "data = [train, test]\n",
        "for dataset in data:\n",
        "    dataset['Age'] = dataset['Age'].astype(int)\n",
        "    dataset.loc[ dataset['Age'] <= 11, 'Age'] = 0\n",
        "    dataset.loc[(dataset['Age'] > 11) & (dataset['Age'] <= 18), 'Age'] = 1\n",
        "    dataset.loc[(dataset['Age'] > 18) & (dataset['Age'] <= 22), 'Age'] = 2\n",
        "    dataset.loc[(dataset['Age'] > 22) & (dataset['Age'] <= 27), 'Age'] = 3\n",
        "    dataset.loc[(dataset['Age'] > 27) & (dataset['Age'] <= 33), 'Age'] = 4\n",
        "    dataset.loc[(dataset['Age'] > 33) & (dataset['Age'] <= 40), 'Age'] = 5\n",
        "    dataset.loc[(dataset['Age'] > 40) & (dataset['Age'] <= 66), 'Age'] = 6\n",
        "    dataset.loc[ dataset['Age'] > 66, 'Age'] = 7"
      ],
      "execution_count": null,
      "outputs": []
    },
    {
      "cell_type": "code",
      "metadata": {
        "id": "ovLIiehJL7Up"
      },
      "source": [
        "data = [train, test]\n",
        "\n",
        "for dataset in data:\n",
        "    dataset.loc[ dataset['Fare'] <= 7.91, 'Fare'] = 0\n",
        "    dataset.loc[(dataset['Fare'] > 7.91) & (dataset['Fare'] <= 14.454), 'Fare'] = 1\n",
        "    dataset.loc[(dataset['Fare'] > 14.454) & (dataset['Fare'] <= 31), 'Fare']   = 2\n",
        "    dataset.loc[(dataset['Fare'] > 31) & (dataset['Fare'] <= 99), 'Fare']   = 3\n",
        "    dataset.loc[(dataset['Fare'] > 99) & (dataset['Fare'] <= 250), 'Fare']   = 4\n",
        "    dataset.loc[ dataset['Fare'] > 250, 'Fare'] = 5\n",
        "    dataset['Fare'] = dataset['Fare'].astype(int)"
      ],
      "execution_count": null,
      "outputs": []
    },
    {
      "cell_type": "markdown",
      "metadata": {
        "id": "8eZu6ZO1Afs9"
      },
      "source": [
        "NEW FEATURES"
      ]
    },
    {
      "cell_type": "code",
      "metadata": {
        "id": "vgR5tEjKIOdV"
      },
      "source": [
        "#newfeature deck\n",
        "\n",
        "import re\n",
        "deck = {\"A\": 1, \"B\": 2, \"C\": 3, \"D\": 4, \"E\": 5, \"F\": 6, \"G\": 7, \"U\": 8}\n",
        "data = [train, test]\n",
        "\n",
        "for dataset in data:\n",
        "    dataset['Cabin'] = dataset['Cabin'].fillna(\"U0\")\n",
        "    dataset['Deck'] = dataset['Cabin'].map(lambda x: re.compile(\"([a-zA-Z]+)\").search(x).group())\n",
        "    dataset['Deck'] = dataset['Deck'].map(deck)\n",
        "    dataset['Deck'] = dataset['Deck'].fillna(0)\n",
        "    dataset['Deck'] = dataset['Deck'].astype(int)\n",
        "# we can now drop the cabin feature\n",
        "train = train.drop(['Cabin'], axis=1)\n",
        "test= test.drop(['Cabin'], axis=1)\n"
      ],
      "execution_count": null,
      "outputs": []
    },
    {
      "cell_type": "code",
      "metadata": {
        "colab": {
          "base_uri": "https://localhost:8080/",
          "height": 352
        },
        "id": "keE1BPtzVCoW",
        "outputId": "e7619680-59c3-41de-b65f-6f9a8d44b49b"
      },
      "source": [
        "\n",
        "sns.barplot('Deck','Survived',data=train,hue='Sex',capsize=.2)"
      ],
      "execution_count": null,
      "outputs": [
        {
          "output_type": "stream",
          "text": [
            "/usr/local/lib/python3.7/dist-packages/seaborn/_decorators.py:43: FutureWarning: Pass the following variables as keyword args: x, y. From version 0.12, the only valid positional argument will be `data`, and passing other arguments without an explicit keyword will result in an error or misinterpretation.\n",
            "  FutureWarning\n"
          ],
          "name": "stderr"
        },
        {
          "output_type": "execute_result",
          "data": {
            "text/plain": [
              "<matplotlib.axes._subplots.AxesSubplot at 0x7f953341d550>"
            ]
          },
          "metadata": {
            "tags": []
          },
          "execution_count": 570
        },
        {
          "output_type": "display_data",
          "data": {
            "image/png": "[encoded data removed]",
            "text/plain": [
              "<Figure size 432x288 with 1 Axes>"
            ]
          },
          "metadata": {
            "tags": [],
            "needs_background": "light"
          }
        }
      ]
    },
    {
      "cell_type": "code",
      "metadata": {
        "id": "8IGfGUJVK9a9"
      },
      "source": [
        "#new feature\n",
        "data = [train, test]\n",
        "titles = {\"Mr\": 1, \"Miss\": 2, \"Mrs\": 3, \"Master\": 4, \"Rare\": 5}\n",
        "\n",
        "for dataset in data:\n",
        "    # extract titles\n",
        "    dataset['Title'] = dataset.Name.str.extract(' ([A-Za-z]+)\\.', expand=False)\n",
        "    # replace titles with a more common title or as Rare\n",
        "    dataset['Title'] = dataset['Title'].replace(['Lady', 'Countess','Capt', 'Col','Don', 'Dr',\\\n",
        "                                            'Major', 'Rev', 'Sir', 'Jonkheer', 'Dona'], 'Rare')\n",
        "    dataset['Title'] = dataset['Title'].replace('Mlle', 'Miss')\n",
        "    dataset['Title'] = dataset['Title'].replace('Ms', 'Miss')\n",
        "    dataset['Title'] = dataset['Title'].replace('Mme', 'Mrs')\n",
        "    # convert titles into numbers\n",
        "    dataset['Title'] = dataset['Title'].map(titles)\n",
        "    # filling NaN with 0, to get safe\n",
        "    dataset['Title'] = dataset['Title'].fillna(0)\n",
        "train = train.drop(['Name'], axis=1)\n",
        "test= test.drop(['Name'], axis=1)"
      ],
      "execution_count": null,
      "outputs": []
    },
    {
      "cell_type": "code",
      "metadata": {
        "id": "AEoILCiUMB-U"
      },
      "source": [
        "data = [train, test]\n",
        "'''for dataset in data:\n",
        "    dataset['Age_Class']= dataset['Age']* dataset['Pclass']'''\n",
        "for dataset in data:\n",
        "    dataset['Fare_Per_Person'] = dataset['Fare']/(dataset['relatives']+1)\n",
        "    dataset['Fare_Per_Person'] = dataset['Fare_Per_Person'].astype(int)"
      ],
      "execution_count": null,
      "outputs": []
    },
    {
      "cell_type": "markdown",
      "metadata": {
        "id": "M_eUfByzA1MR"
      },
      "source": [
        "DROP INSIGNIFICANT FEATURES"
      ]
    },
    {
      "cell_type": "code",
      "metadata": {
        "id": "XGQzrINtpSus"
      },
      "source": [
        "train=train.drop(['PassengerId','Ticket','Parch','SibSp'],axis=1)  \n",
        "test=test.drop(['PassengerId','Ticket','Parch','SibSp'],axis=1)"
      ],
      "execution_count": null,
      "outputs": []
    },
    {
      "cell_type": "code",
      "metadata": {
        "colab": {
          "base_uri": "https://localhost:8080/"
        },
        "id": "f_yX4JR6pCPO",
        "outputId": "9318ae9c-deec-4f95-cc91-a92efa9c232c"
      },
      "source": [
        "train.info()"
      ],
      "execution_count": null,
      "outputs": [
        {
          "output_type": "stream",
          "text": [
            "<class 'pandas.core.frame.DataFrame'>\n",
            "RangeIndex: 891 entries, 0 to 890\n",
            "Data columns (total 11 columns):\n",
            " #   Column           Non-Null Count  Dtype\n",
            "---  ------           --------------  -----\n",
            " 0   Survived         891 non-null    int64\n",
            " 1   Pclass           891 non-null    int64\n",
            " 2   Sex              891 non-null    int64\n",
            " 3   Age              891 non-null    int64\n",
            " 4   Fare             891 non-null    int64\n",
            " 5   Embarked         891 non-null    int64\n",
            " 6   relatives        891 non-null    int64\n",
            " 7   not_alone        891 non-null    int64\n",
            " 8   Deck             891 non-null    int64\n",
            " 9   Title            891 non-null    int64\n",
            " 10  Fare_Per_Person  891 non-null    int64\n",
            "dtypes: int64(11)\n",
            "memory usage: 76.7 KB\n"
          ],
          "name": "stdout"
        }
      ]
    },
    {
      "cell_type": "code",
      "metadata": {
        "colab": {
          "base_uri": "https://localhost:8080/"
        },
        "id": "VDAbEeG4BEGL",
        "outputId": "7ff59f19-f927-451c-be93-4a87c4ba97fb"
      },
      "source": [
        "test.info()"
      ],
      "execution_count": null,
      "outputs": [
        {
          "output_type": "stream",
          "text": [
            "<class 'pandas.core.frame.DataFrame'>\n",
            "RangeIndex: 418 entries, 0 to 417\n",
            "Data columns (total 10 columns):\n",
            " #   Column           Non-Null Count  Dtype\n",
            "---  ------           --------------  -----\n",
            " 0   Pclass           418 non-null    int64\n",
            " 1   Sex              418 non-null    int64\n",
            " 2   Age              418 non-null    int64\n",
            " 3   Fare             418 non-null    int64\n",
            " 4   Embarked         418 non-null    int64\n",
            " 5   relatives        418 non-null    int64\n",
            " 6   not_alone        418 non-null    int64\n",
            " 7   Deck             418 non-null    int64\n",
            " 8   Title            418 non-null    int64\n",
            " 9   Fare_Per_Person  418 non-null    int64\n",
            "dtypes: int64(10)\n",
            "memory usage: 32.8 KB\n"
          ],
          "name": "stdout"
        }
      ]
    },
    {
      "cell_type": "code",
      "metadata": {
        "id": "DWmWVqNjMToe"
      },
      "source": [
        "X = np.array(train.drop(['Survived'], 1).astype(float))\n",
        "y = np.array(train['Survived'])"
      ],
      "execution_count": null,
      "outputs": []
    },
    {
      "cell_type": "markdown",
      "metadata": {
        "id": "D0V9z0zuwudy"
      },
      "source": [
        "SCALING"
      ]
    },
    {
      "cell_type": "code",
      "metadata": {
        "id": "Huh9d6WlduMA"
      },
      "source": [
        "scaler = MinMaxScaler()\n",
        "X = scaler.fit_transform(X)\n",
        "X_test = scaler.fit_transform(test)"
      ],
      "execution_count": null,
      "outputs": []
    },
    {
      "cell_type": "markdown",
      "metadata": {
        "id": "xrJRktEHww5J"
      },
      "source": [
        "# **KMEANS**"
      ]
    },
    {
      "cell_type": "code",
      "metadata": {
        "id": "WTv-VnFxDsyI"
      },
      "source": [
        "train=X[:610]\n",
        "train_y=y[:610]\n",
        "val=X[610:]\n",
        "val_y=y[610:]"
      ],
      "execution_count": null,
      "outputs": []
    },
    {
      "cell_type": "code",
      "metadata": {
        "id": "hh8JeKIczeMr",
        "colab": {
          "base_uri": "https://localhost:8080/"
        },
        "outputId": "fce32998-45fe-4f72-a3f8-58a4f7d7c7cb"
      },
      "source": [
        "kmeans=KMeans(n_clusters=2, max_iter=600, algorithm = 'auto')\n",
        "kmeans.fit(train)\n"
      ],
      "execution_count": null,
      "outputs": [
        {
          "output_type": "execute_result",
          "data": {
            "text/plain": [
              "KMeans(algorithm='auto', copy_x=True, init='k-means++', max_iter=600,\n",
              "       n_clusters=2, n_init=10, n_jobs=None, precompute_distances='auto',\n",
              "       random_state=None, tol=0.0001, verbose=0)"
            ]
          },
          "metadata": {
            "tags": []
          },
          "execution_count": 579
        }
      ]
    },
    {
      "cell_type": "code",
      "metadata": {
        "colab": {
          "base_uri": "https://localhost:8080/"
        },
        "id": "J73pC2qsJCaM",
        "outputId": "c7428203-380c-4030-df52-db15a579bb75"
      },
      "source": [
        "from sklearn.model_selection import cross_val_score\n",
        "#model = KNeighborsClassifier(n_neighbors = 3)\n",
        "scores = cross_val_score(kmeans, X,y, cv=10, scoring = \"accuracy\")\n",
        "print(\"Scores:\", scores)\n",
        "print(\"Mean:\", scores.mean())\n",
        "print(\"Standard Deviation:\", scores.std())\n",
        "k_kmean=round(scores.mean()*100,2)"
      ],
      "execution_count": null,
      "outputs": [
        {
          "output_type": "stream",
          "text": [
            "Scores: [0.48888889 0.59550562 0.40449438 0.61797753 0.57303371 0.29213483\n",
            " 0.69662921 0.41573034 0.3258427  0.30337079]\n",
            "Mean: 0.4713607990012484\n",
            "Standard Deviation: 0.1368878555932096\n"
          ],
          "name": "stdout"
        }
      ]
    },
    {
      "cell_type": "markdown",
      "metadata": {
        "id": "lQwNdmXpw1Ll"
      },
      "source": [
        "CHECKING HOW MANY ARE CORRECTLY PREDICTED"
      ]
    },
    {
      "cell_type": "code",
      "metadata": {
        "colab": {
          "base_uri": "https://localhost:8080/"
        },
        "id": "MC6jD8iDzLFI",
        "outputId": "bcb678a0-26d5-4550-b135-f4486b27196c"
      },
      "source": [
        "#test\n",
        "correct = 0\n",
        "for i in range(len(train)):\n",
        "    predict1_me = np.array(train[i].astype(float))\n",
        "    predict1_me = predict1_me.reshape(-1, len(predict1_me))\n",
        "    prediction1 = kmeans.predict(predict1_me)\n",
        "    if prediction1[0] == train_y[i]:\n",
        "        correct += 1\n",
        "acc_Tkmeans=round(correct/len(train)*100,2)\n",
        "print(acc_Tkmeans)\n"
      ],
      "execution_count": null,
      "outputs": [
        {
          "output_type": "stream",
          "text": [
            "39.51\n"
          ],
          "name": "stdout"
        }
      ]
    },
    {
      "cell_type": "code",
      "metadata": {
        "id": "-2K2u1nI5cRD",
        "colab": {
          "base_uri": "https://localhost:8080/"
        },
        "outputId": "c30991eb-f4a7-4f50-ed49-ed5f2b0a7b2a"
      },
      "source": [
        "#val\n",
        "correct = 0\n",
        "for i in range(len(val)):\n",
        "    predict_me = np.array(val[i].astype(float))\n",
        "    predict_me = predict_me.reshape(-1, len(predict_me))\n",
        "    prediction = kmeans.predict(predict_me)\n",
        "    if prediction[0] == val_y[i]:\n",
        "        correct += 1\n",
        "acc_kmeans=round(correct/len(val)*100,2)\n",
        "print(acc_kmeans)\n"
      ],
      "execution_count": null,
      "outputs": [
        {
          "output_type": "stream",
          "text": [
            "34.52\n"
          ],
          "name": "stdout"
        }
      ]
    },
    {
      "cell_type": "markdown",
      "metadata": {
        "id": "yHsxSeLZ-vu7"
      },
      "source": [
        "# **LOGISTIC** **REGRESSION**"
      ]
    },
    {
      "cell_type": "code",
      "metadata": {
        "id": "TY_RkHOV6Q_U"
      },
      "source": [
        "from sklearn.linear_model import LogisticRegression"
      ],
      "execution_count": null,
      "outputs": []
    },
    {
      "cell_type": "code",
      "metadata": {
        "id": "WbQSWzhbw8AS"
      },
      "source": [
        "train=X[:610]\n",
        "train_y=y[:610]\n",
        "val=X[610:]\n",
        "val_y=y[610:]"
      ],
      "execution_count": null,
      "outputs": []
    },
    {
      "cell_type": "code",
      "metadata": {
        "id": "Q-kkxEy86LYG"
      },
      "source": [
        "logreg = LogisticRegression()\n",
        "logreg.fit(train,train_y)\n",
        "Y_pred = logreg.predict(X_test)\n",
        "acc_logreg=round(logreg.score(val,val_y) * 100, 2)"
      ],
      "execution_count": null,
      "outputs": []
    },
    {
      "cell_type": "code",
      "metadata": {
        "colab": {
          "base_uri": "https://localhost:8080/"
        },
        "id": "xTqhC6HR3oYD",
        "outputId": "6cf3d30b-9808-4686-953d-b6beda611f2e"
      },
      "source": [
        "acc_T_logreg= round(logreg.score(train,train_y)*100,2)\n",
        "acc_T_logreg"
      ],
      "execution_count": null,
      "outputs": [
        {
          "output_type": "execute_result",
          "data": {
            "text/plain": [
              "80.0"
            ]
          },
          "metadata": {
            "tags": []
          },
          "execution_count": 586
        }
      ]
    },
    {
      "cell_type": "code",
      "metadata": {
        "colab": {
          "base_uri": "https://localhost:8080/"
        },
        "id": "rxvK1m2NJME9",
        "outputId": "10584720-418f-4d36-e7d9-3d073e35643e"
      },
      "source": [
        "from sklearn.model_selection import cross_val_score\n",
        "\n",
        "scores = cross_val_score(logreg, X,y, cv=10, scoring = \"accuracy\")\n",
        "print(\"Scores:\", scores)\n",
        "print(\"Mean:\", scores.mean())\n",
        "print(\"Standard Deviation:\", scores.std())\n",
        "k_lg=round(scores.mean()*100,2)"
      ],
      "execution_count": null,
      "outputs": [
        {
          "output_type": "stream",
          "text": [
            "Scores: [0.78888889 0.80898876 0.7752809  0.85393258 0.79775281 0.7752809\n",
            " 0.84269663 0.78651685 0.82022472 0.82022472]\n",
            "Mean: 0.8069787765293382\n",
            "Standard Deviation: 0.025837838114642412\n"
          ],
          "name": "stdout"
        }
      ]
    },
    {
      "cell_type": "markdown",
      "metadata": {
        "id": "TgczwWUkBsod"
      },
      "source": [
        "# **KNN**"
      ]
    },
    {
      "cell_type": "code",
      "metadata": {
        "id": "kJ5iAl-sxAbx"
      },
      "source": [
        "train=X[:610]\n",
        "train_y=y[:610]\n",
        "val=X[610:]\n",
        "val_y=y[610:]"
      ],
      "execution_count": null,
      "outputs": []
    },
    {
      "cell_type": "code",
      "metadata": {
        "id": "Dlc2HvNU5KhI",
        "colab": {
          "base_uri": "https://localhost:8080/"
        },
        "outputId": "196c26b4-14d7-4129-9bd3-c6124bd6ae89"
      },
      "source": [
        "from sklearn.neighbors import KNeighborsClassifier\n",
        "knn = KNeighborsClassifier(n_neighbors = 3) \n",
        "knn.fit(train,train_y)  \n",
        "Y_pred = knn.predict(X_test)  \n",
        "acc_knn=round(knn.score(val,val_y) * 100, 2)\n",
        "acc_knn"
      ],
      "execution_count": null,
      "outputs": [
        {
          "output_type": "execute_result",
          "data": {
            "text/plain": [
              "83.99"
            ]
          },
          "metadata": {
            "tags": []
          },
          "execution_count": 589
        }
      ]
    },
    {
      "cell_type": "code",
      "metadata": {
        "colab": {
          "base_uri": "https://localhost:8080/"
        },
        "id": "ToNxjcpA4AMm",
        "outputId": "eb916a2d-cade-4024-8346-e89a47d8bcc7"
      },
      "source": [
        "acc_T_knn= round(knn.score(train,train_y)*100,2)\n",
        "acc_T_knn"
      ],
      "execution_count": null,
      "outputs": [
        {
          "output_type": "execute_result",
          "data": {
            "text/plain": [
              "87.38"
            ]
          },
          "metadata": {
            "tags": []
          },
          "execution_count": 590
        }
      ]
    },
    {
      "cell_type": "code",
      "metadata": {
        "colab": {
          "base_uri": "https://localhost:8080/"
        },
        "id": "UxD2BUv1EDn7",
        "outputId": "ab75a95f-5c76-4862-ba82-2eaeb8ea7cea"
      },
      "source": [
        "from sklearn.neighbors import KNeighborsClassifier\n",
        "model = KNeighborsClassifier(n_neighbors = 3) \n",
        "\n",
        "from sklearn.model_selection import cross_val_score\n",
        "model = KNeighborsClassifier(n_neighbors = 3)\n",
        "scores = cross_val_score(model, X,y, cv=10, scoring = \"accuracy\")\n",
        "print(\"Scores:\", scores)\n",
        "print(\"Mean:\", scores.mean())\n",
        "print(\"Standard Deviation:\", scores.std())\n",
        "k_knn=round(scores.mean()*100,2)"
      ],
      "execution_count": null,
      "outputs": [
        {
          "output_type": "stream",
          "text": [
            "Scores: [0.76666667 0.83146067 0.73033708 0.83146067 0.84269663 0.80898876\n",
            " 0.79775281 0.78651685 0.85393258 0.82022472]\n",
            "Mean: 0.8070037453183522\n",
            "Standard Deviation: 0.03586288513658996\n"
          ],
          "name": "stdout"
        }
      ]
    },
    {
      "cell_type": "markdown",
      "metadata": {
        "id": "eWBQ5t_HxcX3"
      },
      "source": [
        "# **Linear SVM**"
      ]
    },
    {
      "cell_type": "code",
      "metadata": {
        "id": "G3stbuxuxgm_"
      },
      "source": [
        "from sklearn.svm import SVC, LinearSVC"
      ],
      "execution_count": null,
      "outputs": []
    },
    {
      "cell_type": "code",
      "metadata": {
        "id": "Vwz_a-fDxFN9"
      },
      "source": [
        "train=X[:610]\n",
        "train_y=y[:610]\n",
        "val=X[610:]\n",
        "val_y=y[610:]"
      ],
      "execution_count": null,
      "outputs": []
    },
    {
      "cell_type": "code",
      "metadata": {
        "id": "GjBwiPPNxwfb",
        "colab": {
          "base_uri": "https://localhost:8080/"
        },
        "outputId": "71180288-cb67-4571-8102-dbc438f24164"
      },
      "source": [
        "linear_svc = LinearSVC()\n",
        "linear_svc.fit(train,train_y)\n",
        "\n",
        "Y_pred = linear_svc.predict(X_test)\n",
        "\n",
        "acc_lsvc=round(linear_svc.score(val,val_y) * 100, 2)\n",
        "acc_lsvc"
      ],
      "execution_count": null,
      "outputs": [
        {
          "output_type": "execute_result",
          "data": {
            "text/plain": [
              "81.49"
            ]
          },
          "metadata": {
            "tags": []
          },
          "execution_count": 594
        }
      ]
    },
    {
      "cell_type": "code",
      "metadata": {
        "colab": {
          "base_uri": "https://localhost:8080/"
        },
        "id": "fUBPwZNf45F3",
        "outputId": "f7ff6a21-daa3-4514-f934-65daecd6bbea"
      },
      "source": [
        "acc_T_lsvc=round(linear_svc.score(train,train_y)*100,2)\n",
        "acc_T_lsvc"
      ],
      "execution_count": null,
      "outputs": [
        {
          "output_type": "execute_result",
          "data": {
            "text/plain": [
              "81.31"
            ]
          },
          "metadata": {
            "tags": []
          },
          "execution_count": 595
        }
      ]
    },
    {
      "cell_type": "code",
      "metadata": {
        "colab": {
          "base_uri": "https://localhost:8080/"
        },
        "id": "Oo95N0He_D_B",
        "outputId": "af6bd4b0-61b8-4e80-b3d3-01484ec5dc38"
      },
      "source": [
        "'''from sklearn.model_selection import cross_val_score\n",
        "from sklearn.model_selection import KFold\n",
        "from sklearn.svm import SVC, LinearSVC\n",
        "X = X[:,:-1]\n",
        "y = X[:,-1]\n",
        " \n",
        "k = 5\n",
        "kf = KFold(n_splits=k, random_state=None)\n",
        "model = LinearSVC()\n",
        " \n",
        "result = cross_val_score(model , X, y, cv = kf)\n",
        " \n",
        "print(\"Avg accuracy: {}\".format(result.mean()))'''\n",
        "\n",
        "\n",
        "from sklearn.model_selection import cross_val_score\n",
        "\n",
        "scores = cross_val_score(linear_svc, X,y, cv=10, scoring = \"accuracy\")\n",
        "print(\"Scores:\", scores)\n",
        "print(\"Mean:\", scores.mean())\n",
        "print(\"Standard Deviation:\", scores.std())\n",
        "k_svm=round(scores.mean()*100,2)"
      ],
      "execution_count": null,
      "outputs": [
        {
          "output_type": "stream",
          "text": [
            "Scores: [0.8        0.82022472 0.76404494 0.86516854 0.80898876 0.78651685\n",
            " 0.83146067 0.80898876 0.80898876 0.80898876]\n",
            "Mean: 0.8103370786516854\n",
            "Standard Deviation: 0.025248668593596656\n"
          ],
          "name": "stdout"
        }
      ]
    },
    {
      "cell_type": "markdown",
      "metadata": {
        "id": "qbxT-_ko_3yy"
      },
      "source": [
        "# **DT**"
      ]
    },
    {
      "cell_type": "code",
      "metadata": {
        "id": "iFCyoAfm_1qw",
        "colab": {
          "base_uri": "https://localhost:8080/"
        },
        "outputId": "a0a9905d-03b5-48e6-d8cf-d43a49b754e2"
      },
      "source": [
        "from sklearn.tree import DecisionTreeClassifier\n",
        "decision_tree = DecisionTreeClassifier()\n",
        "decision_tree.fit(train,train_y)\n",
        "Y_pred = decision_tree.predict(X_test)\n",
        "acc_dt=round(decision_tree.score(val,val_y) * 100, 2)\n",
        "acc_dt"
      ],
      "execution_count": null,
      "outputs": [
        {
          "output_type": "execute_result",
          "data": {
            "text/plain": [
              "80.43"
            ]
          },
          "metadata": {
            "tags": []
          },
          "execution_count": 597
        }
      ]
    },
    {
      "cell_type": "code",
      "metadata": {
        "colab": {
          "base_uri": "https://localhost:8080/"
        },
        "id": "yZ-p3vXM5aYl",
        "outputId": "be8ff5fd-6cb5-48d5-cb72-bcfec679fd06"
      },
      "source": [
        "acc_T_dt= round(decision_tree.score(train,train_y)*100,2)\n",
        "acc_T_dt"
      ],
      "execution_count": null,
      "outputs": [
        {
          "output_type": "execute_result",
          "data": {
            "text/plain": [
              "92.79"
            ]
          },
          "metadata": {
            "tags": []
          },
          "execution_count": 598
        }
      ]
    },
    {
      "cell_type": "code",
      "metadata": {
        "colab": {
          "base_uri": "https://localhost:8080/"
        },
        "id": "IPJY2MmkJtuR",
        "outputId": "346be3e0-c770-438d-f477-e7b35a83ca26"
      },
      "source": [
        "from sklearn.model_selection import cross_val_score\n",
        "scores = cross_val_score(decision_tree, X,y, cv=10, scoring = \"accuracy\")\n",
        "print(\"Scores:\", scores)\n",
        "print(\"Mean:\", scores.mean())\n",
        "print(\"Standard Deviation:\", scores.std())\n",
        "k_dt=round(scores.mean()*100,2)"
      ],
      "execution_count": null,
      "outputs": [
        {
          "output_type": "stream",
          "text": [
            "Scores: [0.77777778 0.79775281 0.68539326 0.82022472 0.85393258 0.83146067\n",
            " 0.7752809  0.84269663 0.84269663 0.85393258]\n",
            "Mean: 0.8081148564294631\n",
            "Standard Deviation: 0.049445295144351954\n"
          ],
          "name": "stdout"
        }
      ]
    },
    {
      "cell_type": "markdown",
      "metadata": {
        "id": "VcdrIcn7zpJP"
      },
      "source": [
        "# **RANDOM FOREST**"
      ]
    },
    {
      "cell_type": "code",
      "metadata": {
        "id": "Dd_tK3NEBjhm",
        "colab": {
          "base_uri": "https://localhost:8080/"
        },
        "outputId": "9f9a4fc7-16f4-4c0e-9afd-7ee94b949fe9"
      },
      "source": [
        "from sklearn.ensemble import RandomForestClassifier\n",
        "random_forest = RandomForestClassifier(n_estimators=100)\n",
        "random_forest.fit(train, train_y)\n",
        "Y_prediction = random_forest.predict(X_test)\n",
        "\n",
        "random_forest.score(val, val_y)\n",
        "acc_rf=round(random_forest.score(val, val_y) * 100, 2)\n",
        "acc_rf"
      ],
      "execution_count": null,
      "outputs": [
        {
          "output_type": "execute_result",
          "data": {
            "text/plain": [
              "81.49"
            ]
          },
          "metadata": {
            "tags": []
          },
          "execution_count": 600
        }
      ]
    },
    {
      "cell_type": "code",
      "metadata": {
        "colab": {
          "base_uri": "https://localhost:8080/"
        },
        "id": "j082z-I54U_V",
        "outputId": "3fe3a782-f7bb-4000-9274-3f4881f816f0"
      },
      "source": [
        "acc_T_rf=round(random_forest.score(train,train_y)*100,2)\n",
        "acc_T_rf"
      ],
      "execution_count": null,
      "outputs": [
        {
          "output_type": "execute_result",
          "data": {
            "text/plain": [
              "92.79"
            ]
          },
          "metadata": {
            "tags": []
          },
          "execution_count": 601
        }
      ]
    },
    {
      "cell_type": "code",
      "metadata": {
        "colab": {
          "base_uri": "https://localhost:8080/"
        },
        "id": "qyI7XWdTHYxF",
        "outputId": "0a759767-e7f1-4037-cd30-698850e5574d"
      },
      "source": [
        "\n",
        "from sklearn.model_selection import cross_val_score\n",
        "rf = RandomForestClassifier(n_estimators=100)\n",
        "scores = cross_val_score(rf, X,y, cv=10, scoring = \"accuracy\")\n",
        "print(\"Scores:\", scores)\n",
        "print(\"Mean:\", scores.mean())\n",
        "print(\"Standard Deviation:\", scores.std())\n",
        "k_rt=round(scores.mean()*100,2)"
      ],
      "execution_count": null,
      "outputs": [
        {
          "output_type": "stream",
          "text": [
            "Scores: [0.75555556 0.82022472 0.74157303 0.83146067 0.86516854 0.82022472\n",
            " 0.83146067 0.78651685 0.85393258 0.83146067]\n",
            "Mean: 0.8137578027465668\n",
            "Standard Deviation: 0.038237554367952696\n"
          ],
          "name": "stdout"
        }
      ]
    },
    {
      "cell_type": "markdown",
      "metadata": {
        "id": "opCQZqNGz1Aa"
      },
      "source": [
        "# **NAIVE BAYES**"
      ]
    },
    {
      "cell_type": "code",
      "metadata": {
        "id": "phxAoqfcCLa1",
        "colab": {
          "base_uri": "https://localhost:8080/"
        },
        "outputId": "96c6015a-020e-4a50-d3f6-346862c2a644"
      },
      "source": [
        "from sklearn.naive_bayes import GaussianNB\n",
        "gaussian = GaussianNB() \n",
        "gaussian.fit(train,train_y)\n",
        "Y_pred = gaussian.predict(X_test)  \n",
        "acc_gaussian=round(gaussian.score(val, val_y) * 100, 2)\n",
        "acc_gaussian"
      ],
      "execution_count": null,
      "outputs": [
        {
          "output_type": "execute_result",
          "data": {
            "text/plain": [
              "81.49"
            ]
          },
          "metadata": {
            "tags": []
          },
          "execution_count": 603
        }
      ]
    },
    {
      "cell_type": "code",
      "metadata": {
        "colab": {
          "base_uri": "https://localhost:8080/"
        },
        "id": "JD-A0j5z56nd",
        "outputId": "e663ffe3-efff-40ce-9910-0c3de0ceddcb"
      },
      "source": [
        "acc_T_gaussian=round(gaussian.score(train,train_y)*100,2)\n",
        "acc_T_gaussian"
      ],
      "execution_count": null,
      "outputs": [
        {
          "output_type": "execute_result",
          "data": {
            "text/plain": [
              "77.05"
            ]
          },
          "metadata": {
            "tags": []
          },
          "execution_count": 604
        }
      ]
    },
    {
      "cell_type": "code",
      "metadata": {
        "colab": {
          "base_uri": "https://localhost:8080/"
        },
        "id": "F6zXowHzJ8OP",
        "outputId": "747afa17-70be-4f8d-b286-e59cb2c90e23"
      },
      "source": [
        "from sklearn.model_selection import cross_val_score\n",
        "scores = cross_val_score(gaussian, X,y, cv=10, scoring = \"accuracy\")\n",
        "print(\"Scores:\", scores)\n",
        "print(\"Mean:\", scores.mean())\n",
        "print(\"Standard Deviation:\", scores.std())\n",
        "k_nb=round(scores.mean()*100,2)"
      ],
      "execution_count": null,
      "outputs": [
        {
          "output_type": "stream",
          "text": [
            "Scores: [0.71111111 0.71910112 0.76404494 0.76404494 0.79775281 0.76404494\n",
            " 0.76404494 0.82022472 0.79775281 0.79775281]\n",
            "Mean: 0.7699875156054932\n",
            "Standard Deviation: 0.03321689886294502\n"
          ],
          "name": "stdout"
        }
      ]
    },
    {
      "cell_type": "code",
      "metadata": {
        "colab": {
          "base_uri": "https://localhost:8080/",
          "height": 282
        },
        "id": "NLwIz1xC6uJ4",
        "outputId": "a287c8e4-39a0-4313-95d2-d6e0d4511580"
      },
      "source": [
        "#arranging training accuracy\n",
        "results = pd.DataFrame({\n",
        "    'Model': ['Logistic Regression','KNN','Support Vector Machines','Decision Tree',   \n",
        "              'Random Forest', 'Naive Bayes','KMeans'],\n",
        "    'Score': [acc_T_logreg,acc_T_knn,acc_T_lsvc,acc_T_dt,acc_T_rf,acc_T_gaussian,acc_Tkmeans]})\n",
        "result_df = results.sort_values(by='Score', ascending=False)\n",
        "result_df = result_df.set_index('Score')\n",
        "result_df.head(8)\n"
      ],
      "execution_count": null,
      "outputs": [
        {
          "output_type": "execute_result",
          "data": {
            "text/html": [
              "<div>\n",
              "<style scoped>\n",
              "    .dataframe tbody tr th:only-of-type {\n",
              "        vertical-align: middle;\n",
              "    }\n",
              "\n",
              "    .dataframe tbody tr th {\n",
              "        vertical-align: top;\n",
              "    }\n",
              "\n",
              "    .dataframe thead th {\n",
              "        text-align: right;\n",
              "    }\n",
              "</style>\n",
              "<table border=\"1\" class=\"dataframe\">\n",
              "  <thead>\n",
              "    <tr style=\"text-align: right;\">\n",
              "      <th></th>\n",
              "      <th>Model</th>\n",
              "    </tr>\n",
              "    <tr>\n",
              "      <th>Score</th>\n",
              "      <th></th>\n",
              "    </tr>\n",
              "  </thead>\n",
              "  <tbody>\n",
              "    <tr>\n",
              "      <th>92.79</th>\n",
              "      <td>Decision Tree</td>\n",
              "    </tr>\n",
              "    <tr>\n",
              "      <th>92.79</th>\n",
              "      <td>Random Forest</td>\n",
              "    </tr>\n",
              "    <tr>\n",
              "      <th>87.38</th>\n",
              "      <td>KNN</td>\n",
              "    </tr>\n",
              "    <tr>\n",
              "      <th>81.31</th>\n",
              "      <td>Support Vector Machines</td>\n",
              "    </tr>\n",
              "    <tr>\n",
              "      <th>80.00</th>\n",
              "      <td>Logistic Regression</td>\n",
              "    </tr>\n",
              "    <tr>\n",
              "      <th>77.05</th>\n",
              "      <td>Naive Bayes</td>\n",
              "    </tr>\n",
              "    <tr>\n",
              "      <th>39.51</th>\n",
              "      <td>KMeans</td>\n",
              "    </tr>\n",
              "  </tbody>\n",
              "</table>\n",
              "</div>"
            ],
            "text/plain": [
              "                         Model\n",
              "Score                         \n",
              "92.79            Decision Tree\n",
              "92.79            Random Forest\n",
              "87.38                      KNN\n",
              "81.31  Support Vector Machines\n",
              "80.00      Logistic Regression\n",
              "77.05              Naive Bayes\n",
              "39.51                   KMeans"
            ]
          },
          "metadata": {
            "tags": []
          },
          "execution_count": 606
        }
      ]
    },
    {
      "cell_type": "code",
      "metadata": {
        "colab": {
          "base_uri": "https://localhost:8080/",
          "height": 282
        },
        "id": "q-4oaTabEJHs",
        "outputId": "0b98dd9e-8dd4-45d6-ebbb-58c91040bd45"
      },
      "source": [
        "#testing accuracy\n",
        "results = pd.DataFrame({\n",
        "    'Model': ['KMeans','Logistic Regression','KNN','Support Vector Machines','Decision Tree',   \n",
        "              'Random Forest', 'Naive Bayes'],\n",
        "    'Score': [acc_kmeans,acc_logreg,acc_knn,acc_lsvc,acc_dt,acc_rf,acc_gaussian]})\n",
        "result_df = results.sort_values(by='Score', ascending=False)\n",
        "result_df = result_df.set_index('Score')\n",
        "result_df.head(9)\n"
      ],
      "execution_count": null,
      "outputs": [
        {
          "output_type": "execute_result",
          "data": {
            "text/html": [
              "<div>\n",
              "<style scoped>\n",
              "    .dataframe tbody tr th:only-of-type {\n",
              "        vertical-align: middle;\n",
              "    }\n",
              "\n",
              "    .dataframe tbody tr th {\n",
              "        vertical-align: top;\n",
              "    }\n",
              "\n",
              "    .dataframe thead th {\n",
              "        text-align: right;\n",
              "    }\n",
              "</style>\n",
              "<table border=\"1\" class=\"dataframe\">\n",
              "  <thead>\n",
              "    <tr style=\"text-align: right;\">\n",
              "      <th></th>\n",
              "      <th>Model</th>\n",
              "    </tr>\n",
              "    <tr>\n",
              "      <th>Score</th>\n",
              "      <th></th>\n",
              "    </tr>\n",
              "  </thead>\n",
              "  <tbody>\n",
              "    <tr>\n",
              "      <th>83.99</th>\n",
              "      <td>KNN</td>\n",
              "    </tr>\n",
              "    <tr>\n",
              "      <th>81.49</th>\n",
              "      <td>Support Vector Machines</td>\n",
              "    </tr>\n",
              "    <tr>\n",
              "      <th>81.49</th>\n",
              "      <td>Random Forest</td>\n",
              "    </tr>\n",
              "    <tr>\n",
              "      <th>81.49</th>\n",
              "      <td>Naive Bayes</td>\n",
              "    </tr>\n",
              "    <tr>\n",
              "      <th>80.43</th>\n",
              "      <td>Decision Tree</td>\n",
              "    </tr>\n",
              "    <tr>\n",
              "      <th>79.72</th>\n",
              "      <td>Logistic Regression</td>\n",
              "    </tr>\n",
              "    <tr>\n",
              "      <th>34.52</th>\n",
              "      <td>KMeans</td>\n",
              "    </tr>\n",
              "  </tbody>\n",
              "</table>\n",
              "</div>"
            ],
            "text/plain": [
              "                         Model\n",
              "Score                         \n",
              "83.99                      KNN\n",
              "81.49  Support Vector Machines\n",
              "81.49            Random Forest\n",
              "81.49              Naive Bayes\n",
              "80.43            Decision Tree\n",
              "79.72      Logistic Regression\n",
              "34.52                   KMeans"
            ]
          },
          "metadata": {
            "tags": []
          },
          "execution_count": 607
        }
      ]
    },
    {
      "cell_type": "code",
      "metadata": {
        "id": "Me6H-Z39zHuR",
        "colab": {
          "base_uri": "https://localhost:8080/",
          "height": 282
        },
        "outputId": "30631e19-dab1-45ba-f7c5-5a3278ed3c23"
      },
      "source": [
        "#using cross validation\n",
        "results = pd.DataFrame({\n",
        "    'Model': ['KMeans','Logistic Regression','KNN','Support Vector Machines','Decision Tree',   \n",
        "              'Random Forest', 'Naive Bayes'],\n",
        "    'Score': [k_kmean,k_lg,k_knn,k_svm,k_dt,k_rt,k_nb]})\n",
        "result_df = results.sort_values(by='Score', ascending=False)\n",
        "result_df = result_df.set_index('Score')\n",
        "result_df.head(9)"
      ],
      "execution_count": null,
      "outputs": [
        {
          "output_type": "execute_result",
          "data": {
            "text/html": [
              "<div>\n",
              "<style scoped>\n",
              "    .dataframe tbody tr th:only-of-type {\n",
              "        vertical-align: middle;\n",
              "    }\n",
              "\n",
              "    .dataframe tbody tr th {\n",
              "        vertical-align: top;\n",
              "    }\n",
              "\n",
              "    .dataframe thead th {\n",
              "        text-align: right;\n",
              "    }\n",
              "</style>\n",
              "<table border=\"1\" class=\"dataframe\">\n",
              "  <thead>\n",
              "    <tr style=\"text-align: right;\">\n",
              "      <th></th>\n",
              "      <th>Model</th>\n",
              "    </tr>\n",
              "    <tr>\n",
              "      <th>Score</th>\n",
              "      <th></th>\n",
              "    </tr>\n",
              "  </thead>\n",
              "  <tbody>\n",
              "    <tr>\n",
              "      <th>81.38</th>\n",
              "      <td>Random Forest</td>\n",
              "    </tr>\n",
              "    <tr>\n",
              "      <th>81.03</th>\n",
              "      <td>Support Vector Machines</td>\n",
              "    </tr>\n",
              "    <tr>\n",
              "      <th>80.81</th>\n",
              "      <td>Decision Tree</td>\n",
              "    </tr>\n",
              "    <tr>\n",
              "      <th>80.70</th>\n",
              "      <td>Logistic Regression</td>\n",
              "    </tr>\n",
              "    <tr>\n",
              "      <th>80.70</th>\n",
              "      <td>KNN</td>\n",
              "    </tr>\n",
              "    <tr>\n",
              "      <th>77.00</th>\n",
              "      <td>Naive Bayes</td>\n",
              "    </tr>\n",
              "    <tr>\n",
              "      <th>47.14</th>\n",
              "      <td>KMeans</td>\n",
              "    </tr>\n",
              "  </tbody>\n",
              "</table>\n",
              "</div>"
            ],
            "text/plain": [
              "                         Model\n",
              "Score                         \n",
              "81.38            Random Forest\n",
              "81.03  Support Vector Machines\n",
              "80.81            Decision Tree\n",
              "80.70      Logistic Regression\n",
              "80.70                      KNN\n",
              "77.00              Naive Bayes\n",
              "47.14                   KMeans"
            ]
          },
          "metadata": {
            "tags": []
          },
          "execution_count": 608
        }
      ]
    }
  ]
}