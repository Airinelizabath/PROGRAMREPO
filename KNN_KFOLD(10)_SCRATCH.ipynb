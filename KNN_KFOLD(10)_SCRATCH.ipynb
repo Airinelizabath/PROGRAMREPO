{
  "nbformat": 4,
  "nbformat_minor": 0,
  "metadata": {
    "colab": {
      "name": "KNN_KFOLD(10)_SCRATCH.ipynb",
      "provenance": [],
      "collapsed_sections": [],
      "authorship_tag": "ABX9TyPMF2pK7+eAPdeEdhu6/mx8",
      "include_colab_link": true
    },
    "kernelspec": {
      "name": "python3",
      "display_name": "Python 3"
    },
    "language_info": {
      "name": "python"
    }
  },
  "cells": [
    {
      "cell_type": "markdown",
      "metadata": {
        "id": "view-in-github",
        "colab_type": "text"
      },
      "source": [
        "<a href=\"https://colab.research.google.com/github/Airinelizabath/PROGRAMREPO/blob/main/KNN_KFOLD(10)_SCRATCH.ipynb\" target=\"_parent\"><img src=\"https://colab.research.google.com/assets/colab-badge.svg\" alt=\"Open In Colab\"/></a>"
      ]
    },
    {
      "cell_type": "code",
      "metadata": {
        "id": "rYPlGXkNLNao"
      },
      "source": [
        "#Importing the required modules\n",
        "import numpy as np\n",
        "from scipy.stats import mode\n",
        "from sklearn.metrics import accuracy_score\n",
        "from sklearn.datasets import load_iris\n",
        "from sklearn.model_selection import KFold\n",
        "import statistics\n",
        "#Euclidean Distance\n",
        "def eucledian(p1,p2):\n",
        "    dist = np.sqrt(np.sum((p1-p2)**2))\n",
        "    return dist\n",
        " \n",
        "#Function to calculate KNN\n",
        "def predict(x_train, y , x_input, k):\n",
        "    op_labels = []\n",
        "     \n",
        "    #Loop through the Datapoints to be classified\n",
        "    for item in x_input: \n",
        "         \n",
        "        #Array to store distances\n",
        "        point_dist = []\n",
        "         \n",
        "        #Loop through each training Data\n",
        "        for j in range(len(x_train)): \n",
        "            distances = eucledian(np.array(x_train[j,:]) , item) \n",
        "            #Calculating the distance\n",
        "            point_dist.append(distances) \n",
        "        point_dist = np.array(point_dist) \n",
        "         \n",
        "        #Sorting the array while preserving the index\n",
        "        #Keeping the first K datapoints\n",
        "        dist = np.argsort(point_dist)[:k] \n",
        "         \n",
        "        #Labels of the K datapoints from above\n",
        "        labels = y[dist]\n",
        "         \n",
        "        #Majority voting\n",
        "        lab = mode(labels) \n",
        "        lab = lab.mode[0]\n",
        "        op_labels.append(lab)\n",
        " \n",
        "    return op_labels"
      ],
      "execution_count": 68,
      "outputs": []
    },
    {
      "cell_type": "code",
      "metadata": {
        "id": "_jrsoOmgwdt9"
      },
      "source": [
        "def KNN_KFOLD(X,y,k):  \n",
        "  kf = KFold(n_splits=10, shuffle=False)\n",
        "  kf.get_n_splits(X)  \n",
        "  accuracy_model = []\n",
        "  # Iterate over each train-test split\n",
        "  for train_index, test_index in kf.split(X):\n",
        "    # Split train-test\n",
        "    X_train, X_test = X[train_index], X[test_index]\n",
        "    y_train, y_test = y[train_index], y[test_index]\n",
        "    # Train the model\n",
        "    #model = KNN(X_train, y_train,X_test,y_test,k)\n",
        "    model=predict(X_train,y_train,X_test,k)\n",
        "    # Append to accuracy_model the accuracy of the model\n",
        "    accuracy_model.append(accuracy_score(y_test,model, normalize=True)*100)\n",
        "    #accuracy_model.append(cross_val_score(model, X_test, y_test, scoring='neg_mean_absolute_error',cv=kf, n_jobs=-1) )\n",
        "  print(\"The acuracies for each folds are \\n {}\".format(accuracy_model))\n",
        "  print(\"Mean accuracy for k={} is {}\".format(k,statistics.mean(accuracy_model)))"
      ],
      "execution_count": 59,
      "outputs": []
    },
    {
      "cell_type": "code",
      "metadata": {
        "id": "9IwUXoi5sZ_W"
      },
      "source": [
        "#Loading the Data\n",
        "iris= load_iris()\n",
        "X= iris.data\n",
        "y= iris.target\n"
      ],
      "execution_count": 69,
      "outputs": []
    },
    {
      "cell_type": "code",
      "metadata": {
        "colab": {
          "base_uri": "https://localhost:8080/"
        },
        "id": "LPUJhH0-snY4",
        "outputId": "bd511057-63e6-49d2-b421-055c5a75d4d2"
      },
      "source": [
        "KNN_KFOLD(X,y,7)"
      ],
      "execution_count": 70,
      "outputs": [
        {
          "output_type": "stream",
          "text": [
            "The acuracies for each folds are \n",
            " [100.0, 100.0, 100.0, 100.0, 80.0, 86.66666666666667, 100.0, 93.33333333333333, 80.0, 93.33333333333333]\n",
            "Mean accuracy for k=7 is 93.33333333333333\n"
          ],
          "name": "stdout"
        }
      ]
    },
    {
      "cell_type": "code",
      "metadata": {
        "colab": {
          "base_uri": "https://localhost:8080/"
        },
        "id": "684SSsbos7sH",
        "outputId": "5192825e-f37b-4c28-fab4-38d9a31eb3ed"
      },
      "source": [
        "KNN_KFOLD(X,y,3)"
      ],
      "execution_count": 71,
      "outputs": [
        {
          "output_type": "stream",
          "text": [
            "The acuracies for each folds are \n",
            " [100.0, 100.0, 100.0, 100.0, 86.66666666666667, 86.66666666666667, 100.0, 86.66666666666667, 86.66666666666667, 100.0]\n",
            "Mean accuracy for k=3 is 94.66666666666667\n"
          ],
          "name": "stdout"
        }
      ]
    },
    {
      "cell_type": "code",
      "metadata": {
        "colab": {
          "base_uri": "https://localhost:8080/"
        },
        "id": "Ggp-CwQAt-p8",
        "outputId": "c3dd73b7-2f44-4551-f7ce-81dac47b3bff"
      },
      "source": [
        "KNN_KFOLD(X,y,4)"
      ],
      "execution_count": 72,
      "outputs": [
        {
          "output_type": "stream",
          "text": [
            "The acuracies for each folds are \n",
            " [100.0, 100.0, 100.0, 100.0, 86.66666666666667, 86.66666666666667, 100.0, 86.66666666666667, 73.33333333333333, 93.33333333333333]\n",
            "Mean accuracy for k=4 is 92.66666666666667\n"
          ],
          "name": "stdout"
        }
      ]
    }
  ]
}