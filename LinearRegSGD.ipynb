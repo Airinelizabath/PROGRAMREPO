{
  "nbformat": 4,
  "nbformat_minor": 0,
  "metadata": {
    "colab": {
      "name": "LinearRegSGD.ipynb",
      "provenance": [],
      "collapsed_sections": [],
      "authorship_tag": "ABX9TyPAbSv1vNaiRE7TrX7HjURw",
      "include_colab_link": true
    },
    "kernelspec": {
      "name": "python3",
      "display_name": "Python 3"
    },
    "language_info": {
      "name": "python"
    }
  },
  "cells": [
    {
      "cell_type": "markdown",
      "metadata": {
        "id": "view-in-github",
        "colab_type": "text"
      },
      "source": [
        "<a href=\"https://colab.research.google.com/github/Airinelizabath/PROGRAMREPO/blob/main/LinearRegSGD.ipynb\" target=\"_parent\"><img src=\"https://colab.research.google.com/assets/colab-badge.svg\" alt=\"Open In Colab\"/></a>"
      ]
    },
    {
      "cell_type": "code",
      "metadata": {
        "colab": {
          "base_uri": "https://localhost:8080/"
        },
        "id": "hquIVLoDppEM",
        "outputId": "17e24900-381f-4226-e069-92eb1575c099"
      },
      "source": [
        "pip install tflearn"
      ],
      "execution_count": null,
      "outputs": [
        {
          "output_type": "stream",
          "text": [
            "Collecting tflearn\n",
            "\u001b[?25l  Downloading https://files.pythonhosted.org/packages/e7/3c/0b156d08ef3d4e2a8009ecab2af1ad2e304f6fb99562b6271c68a74a4397/tflearn-0.5.0.tar.gz (107kB)\n",
            "\r\u001b[K     |███                             | 10kB 13.4MB/s eta 0:00:01\r\u001b[K     |██████                          | 20kB 11.0MB/s eta 0:00:01\r\u001b[K     |█████████▏                      | 30kB 8.3MB/s eta 0:00:01\r\u001b[K     |████████████▏                   | 40kB 7.7MB/s eta 0:00:01\r\u001b[K     |███████████████▎                | 51kB 4.3MB/s eta 0:00:01\r\u001b[K     |██████████████████▎             | 61kB 4.9MB/s eta 0:00:01\r\u001b[K     |█████████████████████▍          | 71kB 5.0MB/s eta 0:00:01\r\u001b[K     |████████████████████████▍       | 81kB 5.3MB/s eta 0:00:01\r\u001b[K     |███████████████████████████▌    | 92kB 5.4MB/s eta 0:00:01\r\u001b[K     |██████████████████████████████▌ | 102kB 5.8MB/s eta 0:00:01\r\u001b[K     |████████████████████████████████| 112kB 5.8MB/s \n",
            "\u001b[?25hRequirement already satisfied: numpy in /usr/local/lib/python3.7/dist-packages (from tflearn) (1.19.5)\n",
            "Requirement already satisfied: six in /usr/local/lib/python3.7/dist-packages (from tflearn) (1.15.0)\n",
            "Requirement already satisfied: Pillow in /usr/local/lib/python3.7/dist-packages (from tflearn) (7.0.0)\n",
            "Building wheels for collected packages: tflearn\n",
            "  Building wheel for tflearn (setup.py) ... \u001b[?25l\u001b[?25hdone\n",
            "  Created wheel for tflearn: filename=tflearn-0.5.0-cp37-none-any.whl size=127301 sha256=732d3496502ff53aadd83472a0454f47b7cdadf6fc944ab28b53253eccc4f956\n",
            "  Stored in directory: /root/.cache/pip/wheels/31/d2/ed/fb9a0d301dd9586c11e9547120278e624227f22fd5f4baf744\n",
            "Successfully built tflearn\n",
            "Installing collected packages: tflearn\n",
            "Successfully installed tflearn-0.5.0\n"
          ],
          "name": "stdout"
        }
      ]
    },
    {
      "cell_type": "code",
      "metadata": {
        "colab": {
          "base_uri": "https://localhost:8080/"
        },
        "id": "CabIN4tgpfWE",
        "outputId": "3212a349-90b3-44ff-e7ca-9657dbd2d70d"
      },
      "source": [
        "  \n",
        "\"\"\" Linear Regression Example \"\"\"\n",
        "\n",
        "from __future__ import absolute_import, division, print_function\n",
        "\n",
        "import tflearn\n",
        "\n",
        "# Regression data\n",
        "X = [3.3,4.4,5.5,6.71,6.93,4.168,9.779,6.182,7.59,2.167,7.042,10.791,5.313,7.997,5.654,9.27,3.1]\n",
        "Y = [1.7,2.76,2.09,3.19,1.694,1.573,3.366,2.596,2.53,1.221,2.827,3.465,1.65,2.904,2.42,2.94,1.3]\n",
        "\n",
        "# Linear Regression graph\n",
        "input_ = tflearn.input_data(shape=[None])\n",
        "linear = tflearn.single_unit(input_)\n",
        "regression = tflearn.regression(linear, optimizer='sgd', loss='mean_square',\n",
        "                                metric='R2', learning_rate=0.01)\n",
        "m = tflearn.DNN(regression)\n",
        "m.fit(X, Y, n_epoch=1000, show_metric=True, snapshot_epoch=False)\n",
        "\n",
        "print(\"\\nRegression result:\")\n",
        "print(\"Y = \" + str(m.get_weights(linear.W)) +\n",
        "      \"*X + \" + str(m.get_weights(linear.b)))\n",
        "\n",
        "print(\"\\nTest prediction for x = 3.2, 3.3, 3.4:\")\n",
        "print(m.predict([3.2, 3.3, 3.4]))\n",
        "# should output (close, not exact) y = [1.5315033197402954, 1.5585315227508545, 1.5855598449707031]"
      ],
      "execution_count": null,
      "outputs": [
        {
          "output_type": "stream",
          "text": [
            "Training Step: 1000  | total loss: \u001b[1m\u001b[32m0.16170\u001b[0m\u001b[0m | time: 0.003s\n",
            "\u001b[2K\r| SGD | epoch: 1000 | loss: 0.16170 - R2: 0.6771 -- iter: 17/17\n",
            "\n",
            "Regression result:\n",
            "Y = [0.28626028]*X + [0.5533232]\n",
            "\n",
            "Test prediction for x = 3.2, 3.3, 3.4:\n",
            "[1.4693561 1.497982  1.5266082]\n"
          ],
          "name": "stdout"
        }
      ]
    }
  ]
}