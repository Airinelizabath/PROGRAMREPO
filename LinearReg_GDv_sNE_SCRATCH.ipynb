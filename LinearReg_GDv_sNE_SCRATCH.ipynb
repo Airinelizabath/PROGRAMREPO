{
  "nbformat": 4,
  "nbformat_minor": 0,
  "metadata": {
    "colab": {
      "name": "LinearReg_GDv/sNE.ipynb",
      "provenance": [],
      "collapsed_sections": [],
      "authorship_tag": "ABX9TyOll9Yf514nBbb34z3+nGwd",
      "include_colab_link": true
    },
    "kernelspec": {
      "name": "python3",
      "display_name": "Python 3"
    },
    "language_info": {
      "name": "python"
    }
  },
  "cells": [
    {
      "cell_type": "markdown",
      "metadata": {
        "id": "view-in-github",
        "colab_type": "text"
      },
      "source": [
        "<a href=\"https://colab.research.google.com/github/Airinelizabath/PROGRAMREPO/blob/main/LinearReg_GDv_sNE.ipynb\" target=\"_parent\"><img src=\"https://colab.research.google.com/assets/colab-badge.svg\" alt=\"Open In Colab\"/></a>"
      ]
    },
    {
      "cell_type": "markdown",
      "metadata": {
        "id": "uy9yS6NrmYQo"
      },
      "source": [
        "LINEAR REGRESSION USING NORMAL EQUATION\n"
      ]
    },
    {
      "cell_type": "code",
      "metadata": {
        "id": "PDll42ry91h0"
      },
      "source": [
        "import pandas as pd  \n",
        "import numpy as np"
      ],
      "execution_count": null,
      "outputs": []
    },
    {
      "cell_type": "code",
      "metadata": {
        "id": "-9sPCdSd96ji",
        "colab": {
          "base_uri": "https://localhost:8080/"
        },
        "outputId": "70e2e1b0-f314-4bdd-d87c-ddc7de3bd42b"
      },
      "source": [
        "data = pd.read_csv('/content/ex1data2.txt', delimiter=',',header=None)              \n",
        "print(data.head())"
      ],
      "execution_count": null,
      "outputs": [
        {
          "output_type": "stream",
          "text": [
            "      0  1       2\n",
            "0  2104  3  399900\n",
            "1  1600  3  329900\n",
            "2  2400  3  369000\n",
            "3  1416  2  232000\n",
            "4  3000  4  539900\n"
          ],
          "name": "stdout"
        }
      ]
    },
    {
      "cell_type": "code",
      "metadata": {
        "id": "PdsTwa2Mo9_s"
      },
      "source": [
        "X1=data[0][:33]\n",
        "X2=data[1][:33]\n",
        "y=data[2][:33]"
      ],
      "execution_count": null,
      "outputs": []
    },
    {
      "cell_type": "code",
      "metadata": {
        "colab": {
          "base_uri": "https://localhost:8080/",
          "height": 312
        },
        "id": "kH68W9FepcVq",
        "outputId": "19998f9d-20e5-440d-f747-17c36d274912"
      },
      "source": [
        "import matplotlib.pyplot as plt\n",
        "fig,axes= plt.subplots(figsize=(12,4),nrows=1, ncols=2 )\n",
        "axes[0].scatter(X1,y)\n",
        "axes[0].set_xlabel(\"Size\")\n",
        "axes[0].set_ylabel(\"Price\")\n",
        "axes[0].set_title(\"Size-Price Plot\")\n",
        "\n",
        "axes[1].scatter(X2,y,color='b')\n",
        "axes[1].set_xlabel(\"No. of Rooms \")\n",
        "axes[1].set_ylabel(\"Price\")\n",
        "axes[1].set_title(\"No. of Rooms - Price Plot\")"
      ],
      "execution_count": null,
      "outputs": [
        {
          "output_type": "execute_result",
          "data": {
            "text/plain": [
              "Text(0.5, 1.0, 'No. of Rooms - Price Plot')"
            ]
          },
          "metadata": {
            "tags": []
          },
          "execution_count": 42
        },
        {
          "output_type": "display_data",
          "data": {
            "image/png": "[encoded data removed]",
            "text/plain": [
              "<Figure size 864x288 with 2 Axes>"
            ]
          },
          "metadata": {
            "tags": [],
            "needs_background": "light"
          }
        }
      ]
    },
    {
      "cell_type": "code",
      "metadata": {
        "id": "9Udc6G9GqEx5"
      },
      "source": [
        "X1=np.array(X1)\n",
        "X2=np.array(X2)\n",
        "y=np.array(y)"
      ],
      "execution_count": null,
      "outputs": []
    },
    {
      "cell_type": "code",
      "metadata": {
        "id": "rf6QUpgpqTqo"
      },
      "source": [
        "n=len(X1)\n",
        "x_bias=np.ones((n,1))"
      ],
      "execution_count": null,
      "outputs": []
    },
    {
      "cell_type": "code",
      "metadata": {
        "id": "CIaDcTm0qbu-"
      },
      "source": [
        "x1_new=np.reshape(X1,(n,1))\n",
        "x2_new=np.reshape(X2,(n,1))"
      ],
      "execution_count": null,
      "outputs": []
    },
    {
      "cell_type": "code",
      "metadata": {
        "id": "fvPHTRJtqnNW"
      },
      "source": [
        "x_new=np.append(x_bias,x1_new,axis=1)\n",
        "x_new=np.append(x_new,x2_new,axis=1)"
      ],
      "execution_count": null,
      "outputs": []
    },
    {
      "cell_type": "code",
      "metadata": {
        "colab": {
          "base_uri": "https://localhost:8080/"
        },
        "id": "p430qkQrrekq",
        "outputId": "64c24825-9dce-405a-d412-9a626dc44163"
      },
      "source": [
        "x_new_transpose=np.transpose(x_new)\n",
        "x_new_transpose_dot=x_new_transpose.dot(x_new)\n",
        "temp1=np.linalg.inv(x_new_transpose_dot)\n",
        "temp2=x_new_transpose.dot(y)\n",
        "theta=temp1.dot(temp2)\n",
        "theta"
      ],
      "execution_count": null,
      "outputs": [
        {
          "output_type": "execute_result",
          "data": {
            "text/plain": [
              "array([39935.20888555,   143.29913983,  6021.4005437 ])"
            ]
          },
          "metadata": {
            "tags": []
          },
          "execution_count": 47
        }
      ]
    },
    {
      "cell_type": "code",
      "metadata": {
        "colab": {
          "base_uri": "https://localhost:8080/"
        },
        "id": "ZTQSo3BxtMQP",
        "outputId": "b61f514f-2e6e-4630-fadb-2e2ecbf7ee55"
      },
      "source": [
        "print(\"The parameter values are theta0:{}, theta1:{},theta2:{}\".format(theta[0],theta[1],theta[2]))"
      ],
      "execution_count": null,
      "outputs": [
        {
          "output_type": "stream",
          "text": [
            "The parameter values are theta0:39935.20888554844, theta1:143.2991398274415,theta2:6021.400543704296\n"
          ],
          "name": "stdout"
        }
      ]
    },
    {
      "cell_type": "code",
      "metadata": {
        "id": "qug95W0rtW1h"
      },
      "source": [
        "b0=theta[0]\n",
        "b1=theta[1]\n",
        "b2=theta[2]\n",
        "x1=data[0]\n",
        "x2=data[1]"
      ],
      "execution_count": null,
      "outputs": []
    },
    {
      "cell_type": "code",
      "metadata": {
        "id": "PZ2BbfQXsHpD"
      },
      "source": [
        "def predict(b0,b1,b2,x1,x2):\n",
        "  pred=b0 + b1*x1 + b2*x2\n",
        "  return pred"
      ],
      "execution_count": null,
      "outputs": []
    },
    {
      "cell_type": "code",
      "metadata": {
        "colab": {
          "base_uri": "https://localhost:8080/"
        },
        "id": "-QTvfVlltzuN",
        "outputId": "17f34915-6ffa-4804-d9ef-5bfb83bec3ac"
      },
      "source": [
        "x1=data[0][33:]\n",
        "x2=data[1][33:]\n",
        "y=data[2][33:]\n",
        "k=predict(b0,b1,b2,x1,x2)\n",
        "k"
      ],
      "execution_count": null,
      "outputs": [
        {
          "output_type": "execute_result",
          "data": {
            "text/plain": [
              "33    507528.812155\n",
              "34    323535.553288\n",
              "35    263920.274449\n",
              "36    235547.044763\n",
              "37    369534.577172\n",
              "38    668026.685433\n",
              "39    373833.551367\n",
              "40    290427.778646\n",
              "41    378702.885450\n",
              "42    431869.702997\n",
              "43    229958.378310\n",
              "44    174068.877106\n",
              "45    329410.818021\n",
              "46    230388.275729\n",
              "dtype: float64"
            ]
          },
          "metadata": {
            "tags": []
          },
          "execution_count": 55
        }
      ]
    },
    {
      "cell_type": "code",
      "metadata": {
        "colab": {
          "base_uri": "https://localhost:8080/"
        },
        "id": "dA0_MfLi21E1",
        "outputId": "ffe9213f-fa83-420b-b6cc-303a7d5f7acf"
      },
      "source": [
        "from sklearn.metrics import mean_squared_error\n",
        "np.sqrt(mean_squared_error(k,y))"
      ],
      "execution_count": null,
      "outputs": [
        {
          "output_type": "execute_result",
          "data": {
            "text/plain": [
              "63984.79928647157"
            ]
          },
          "metadata": {
            "tags": []
          },
          "execution_count": 56
        }
      ]
    },
    {
      "cell_type": "markdown",
      "metadata": {
        "id": "u9t9PqQoS7nG"
      },
      "source": [
        "GRADIENT DESCENT"
      ]
    },
    {
      "cell_type": "code",
      "metadata": {
        "id": "Xphtk1XuS2Qw"
      },
      "source": [
        "import pandas as pd  \n",
        "import numpy as np"
      ],
      "execution_count": null,
      "outputs": []
    },
    {
      "cell_type": "code",
      "metadata": {
        "colab": {
          "base_uri": "https://localhost:8080/"
        },
        "id": "YvmYYc8fS2Qy",
        "outputId": "1128f97f-d5b2-4517-8f43-07b612e546a0"
      },
      "source": [
        "data = pd.read_csv('/content/ex1data2.txt', delimiter=',')              \n",
        "print(data.head())"
      ],
      "execution_count": null,
      "outputs": [
        {
          "output_type": "stream",
          "text": [
            "   2104  3  399900\n",
            "0  1600  3  329900\n",
            "1  2400  3  369000\n",
            "2  1416  2  232000\n",
            "3  3000  4  539900\n",
            "4  1985  4  299900\n"
          ],
          "name": "stdout"
        }
      ]
    },
    {
      "cell_type": "code",
      "metadata": {
        "id": "Moebp6GNQ9H_"
      },
      "source": [
        "X = data.iloc[:, :2] # 2 features\n",
        "Y = data.iloc[:, 2] # labels\n",
        "X = np.array(X)\n",
        "Y = np.array(Y)\n",
        "from sklearn.model_selection import train_test_split\n",
        "X, x, Y, y = train_test_split(X,Y,test_size=0.30,random_state=0)\n",
        "m = len(Y)"
      ],
      "execution_count": null,
      "outputs": []
    },
    {
      "cell_type": "code",
      "metadata": {
        "id": "eWhzafZ5RDWQ"
      },
      "source": [
        "def featureNormalize(X):\n",
        "    mu = np.mean(X)\n",
        "    sigma = np.std(X)\n",
        "    X_norm = (X - mu) / sigma\n",
        "    return X_norm, mu, sigma\n",
        "  "
      ],
      "execution_count": null,
      "outputs": []
    },
    {
      "cell_type": "code",
      "metadata": {
        "id": "LOOVms0qRHms"
      },
      "source": [
        "def computeCostMulti(X, Y, theta):\n",
        "    m = len(Y) # number of training examples\n",
        "    J = np.sum((X.dot(theta)- Y) ** 2)/(2 * m)\n",
        "    return J"
      ],
      "execution_count": null,
      "outputs": []
    },
    {
      "cell_type": "code",
      "metadata": {
        "id": "QbB-laoqRJQa"
      },
      "source": [
        "def gradientDescentMulti(X, Y, theta, alpha, num_iters):\n",
        "  \n",
        "    J = [0] * num_iters  #id array of 400 elements\n",
        "\n",
        "    m = len(Y) \n",
        "\n",
        "    for i in range(num_iters):\n",
        "        \n",
        "        h = (X.dot(theta))\n",
        "        loss = h - Y\n",
        "        gradient = X.T.dot(loss) / m\n",
        "\n",
        "        theta = theta - alpha * gradient\n",
        "\n",
        "        cost = computeCostMulti(X, Y, theta)\n",
        "        J[i] = cost\n",
        "    np.shape(h)\n",
        "    return theta, J"
      ],
      "execution_count": null,
      "outputs": []
    },
    {
      "cell_type": "code",
      "metadata": {
        "id": "ZWrDkEFxRNwY"
      },
      "source": [
        "X_norm, mu, sigma = featureNormalize(X)\n",
        "X_padded = np.column_stack((np.ones((m,1)), X_norm)) # Add a column of ones to x\n",
        "\n",
        "alpha = 0.01\n",
        "num_iters = 400 \n",
        "theta = np.zeros(X_padded.shape[1])\n"
      ],
      "execution_count": null,
      "outputs": []
    },
    {
      "cell_type": "code",
      "metadata": {
        "id": "Zj71f19URSae"
      },
      "source": [
        "theta, J_history= gradientDescentMulti(X_padded, Y, theta, alpha, num_iters)"
      ],
      "execution_count": null,
      "outputs": []
    },
    {
      "cell_type": "code",
      "metadata": {
        "colab": {
          "base_uri": "https://localhost:8080/"
        },
        "id": "c-JGgCfxRTIS",
        "outputId": "28894c12-b2be-41da-d094-9bd2f1b3d3ff"
      },
      "source": [
        "theta"
      ],
      "execution_count": null,
      "outputs": [
        {
          "output_type": "execute_result",
          "data": {
            "text/plain": [
              "array([ 122805.57208901,  159816.91099823, -104705.95103745])"
            ]
          },
          "metadata": {
            "tags": []
          },
          "execution_count": 9
        }
      ]
    },
    {
      "cell_type": "code",
      "metadata": {
        "id": "bEl4D5DuWvMH"
      },
      "source": [
        "x_norm, mu, sigma = featureNormalize(x)\n",
        "x_padded = np.column_stack((np.ones((len(y),1)), x_norm))"
      ],
      "execution_count": null,
      "outputs": []
    },
    {
      "cell_type": "code",
      "metadata": {
        "colab": {
          "base_uri": "https://localhost:8080/"
        },
        "id": "tGJ3wuGDRbuT",
        "outputId": "ffa80f0b-1b74-43f7-be72-01bb1641692e"
      },
      "source": [
        "def pred(x_test, newB):\n",
        "    print(x_test.dot(newB))\n",
        "    return x_test.dot(newB)\n",
        "\n",
        "ans = pred(np.array(x_padded), theta) \n"
      ],
      "execution_count": null,
      "outputs": [
        {
          "output_type": "stream",
          "text": [
            "[299495.42060147 378356.03597839 484213.05052756 381959.51815676\n",
            " 384412.26150048 390576.54075721 359290.53252275 367178.21629958\n",
            " 366967.51629407 562549.61962259 227944.41585216 409690.6636164\n",
            " 259073.75094843 293017.79506835]\n"
          ],
          "name": "stdout"
        }
      ]
    },
    {
      "cell_type": "code",
      "metadata": {
        "colab": {
          "base_uri": "https://localhost:8080/"
        },
        "id": "kKb1un9HRO9z",
        "outputId": "61b0f1e6-3e51-48cc-bea8-6e24418a52b4"
      },
      "source": [
        "y_norm, mu, sigma = featureNormalize(y)\n",
        "from sklearn.metrics import mean_squared_error\n",
        "np.sqrt(mean_squared_error(ans,y))"
      ],
      "execution_count": null,
      "outputs": [
        {
          "output_type": "execute_result",
          "data": {
            "text/plain": [
              "95295.66448961855"
            ]
          },
          "metadata": {
            "tags": []
          },
          "execution_count": 13
        }
      ]
    },
    {
      "cell_type": "markdown",
      "metadata": {
        "id": "Qh573uHjTV9c"
      },
      "source": [
        "Here the accuracy of Multivariant linear regression using Gradient Descent is greater than that when using Normal Equation"
      ]
    }
  ]
}
